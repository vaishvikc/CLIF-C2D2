{
 "cells": [
  {
   "cell_type": "code",
   "execution_count": 1,
   "id": "b85130d9",
   "metadata": {
    "execution": {
     "iopub.execute_input": "2025-06-04T15:39:31.355390Z",
     "iopub.status.busy": "2025-06-04T15:39:31.353822Z",
     "iopub.status.idle": "2025-06-04T15:39:32.980563Z",
     "shell.execute_reply": "2025-06-04T15:39:32.980563Z"
    },
    "papermill": {
     "duration": 1.641161,
     "end_time": "2025-06-04T15:39:32.982649",
     "exception": false,
     "start_time": "2025-06-04T15:39:31.341488",
     "status": "completed"
    },
    "tags": []
   },
   "outputs": [
    {
     "name": "stdout",
     "output_type": "stream",
     "text": [
      "✅ Loaded configuration from config.json\n"
     ]
    }
   ],
   "source": [
    "import pandas as pd\n",
    "import numpy as np\n",
    "import matplotlib.pyplot as plt\n",
    "import os\n",
    "import json\n",
    "import pyCLIF\n",
    "from datetime import timedelta\n",
    "import pyarrow\n",
    "import waterfall\n",
    "import warnings\n",
    "warnings.filterwarnings('ignore')"
   ]
  },
  {
   "cell_type": "code",
   "execution_count": 2,
   "id": "7e93b523",
   "metadata": {
    "execution": {
     "iopub.execute_input": "2025-06-04T15:39:33.012110Z",
     "iopub.status.busy": "2025-06-04T15:39:33.011282Z",
     "iopub.status.idle": "2025-06-04T15:39:33.863342Z",
     "shell.execute_reply": "2025-06-04T15:39:33.863342Z"
    },
    "papermill": {
     "duration": 0.87037,
     "end_time": "2025-06-04T15:39:33.863342",
     "exception": false,
     "start_time": "2025-06-04T15:39:32.992972",
     "status": "completed"
    },
    "tags": []
   },
   "outputs": [],
   "source": [
    "clif_c2d2_mapping = pd.read_excel('../mapping/ccm-53-e1045-s002.xlsx')\n",
    "cohort = pd.read_parquet('../output/final/c2d2_cohort.parquet')"
   ]
  },
  {
   "cell_type": "markdown",
   "id": "68f45ad1",
   "metadata": {
    "papermill": {
     "duration": 0.0,
     "end_time": "2025-06-04T15:39:33.872052",
     "exception": false,
     "start_time": "2025-06-04T15:39:33.872052",
     "status": "completed"
    },
    "tags": []
   },
   "source": [
    "## 🗺️ CLIF labs to C2D2 Mapping"
   ]
  },
  {
   "cell_type": "code",
   "execution_count": 3,
   "id": "58c7d1d9",
   "metadata": {
    "execution": {
     "iopub.execute_input": "2025-06-04T15:39:33.892621Z",
     "iopub.status.busy": "2025-06-04T15:39:33.892621Z",
     "iopub.status.idle": "2025-06-04T15:39:33.936649Z",
     "shell.execute_reply": "2025-06-04T15:39:33.936649Z"
    },
    "papermill": {
     "duration": 0.054303,
     "end_time": "2025-06-04T15:39:33.936649",
     "exception": false,
     "start_time": "2025-06-04T15:39:33.882346",
     "status": "completed"
    },
    "tags": []
   },
   "outputs": [
    {
     "data": {
      "text/html": [
       "<div>\n",
       "<style scoped>\n",
       "    .dataframe tbody tr th:only-of-type {\n",
       "        vertical-align: middle;\n",
       "    }\n",
       "\n",
       "    .dataframe tbody tr th {\n",
       "        vertical-align: top;\n",
       "    }\n",
       "\n",
       "    .dataframe thead th {\n",
       "        text-align: right;\n",
       "    }\n",
       "</style>\n",
       "<table border=\"1\" class=\"dataframe\">\n",
       "  <thead>\n",
       "    <tr style=\"text-align: right;\">\n",
       "      <th></th>\n",
       "      <th>Domain</th>\n",
       "      <th>Sub-domain</th>\n",
       "      <th>Concept</th>\n",
       "      <th>Common Data Element</th>\n",
       "      <th>CLIF Table</th>\n",
       "      <th>CLIF mCIDE Crosswalk column</th>\n",
       "      <th>CLIF version</th>\n",
       "      <th>mCIDE</th>\n",
       "      <th>Definition</th>\n",
       "      <th>Coding</th>\n",
       "      <th>...</th>\n",
       "      <th>SOFA</th>\n",
       "      <th>PSOFA</th>\n",
       "      <th>nSOFA</th>\n",
       "      <th>PRISM III</th>\n",
       "      <th>PIM3</th>\n",
       "      <th>Charlson CI</th>\n",
       "      <th>MRC-ICU</th>\n",
       "      <th>SOI count</th>\n",
       "      <th>No SOI score</th>\n",
       "      <th>Potential EHR Datasource</th>\n",
       "    </tr>\n",
       "  </thead>\n",
       "  <tbody>\n",
       "    <tr>\n",
       "      <th>88</th>\n",
       "      <td>Diagnostic tests</td>\n",
       "      <td>Hematology</td>\n",
       "      <td>Hematocrit - high</td>\n",
       "      <td>icu_24hr_hct_max</td>\n",
       "      <td>Labs</td>\n",
       "      <td>lab_category</td>\n",
       "      <td>CLIF 2.2 (Upcoming release)</td>\n",
       "      <td>TBD</td>\n",
       "      <td>Patient's hematocrit (highest during first 24 ...</td>\n",
       "      <td>[continuous] \\nUnits: percent %</td>\n",
       "      <td>...</td>\n",
       "      <td>NaN</td>\n",
       "      <td>NaN</td>\n",
       "      <td>NaN</td>\n",
       "      <td>NaN</td>\n",
       "      <td>NaN</td>\n",
       "      <td>NaN</td>\n",
       "      <td>NaN</td>\n",
       "      <td>1</td>\n",
       "      <td>NaN</td>\n",
       "      <td>Lab</td>\n",
       "    </tr>\n",
       "    <tr>\n",
       "      <th>89</th>\n",
       "      <td>Diagnostic tests</td>\n",
       "      <td>Hematology</td>\n",
       "      <td>Hemoglobin - high</td>\n",
       "      <td>icu_24hr_hgb_max</td>\n",
       "      <td>Labs</td>\n",
       "      <td>lab_category</td>\n",
       "      <td>CLIF-2.1.0 (Live)</td>\n",
       "      <td>hemoglobin</td>\n",
       "      <td>Patient's hemoglobin level (highest) captured ...</td>\n",
       "      <td>[continuous] \\nUnits: g/dL</td>\n",
       "      <td>...</td>\n",
       "      <td>NaN</td>\n",
       "      <td>NaN</td>\n",
       "      <td>NaN</td>\n",
       "      <td>NaN</td>\n",
       "      <td>NaN</td>\n",
       "      <td>NaN</td>\n",
       "      <td>NaN</td>\n",
       "      <td>0</td>\n",
       "      <td>1.0</td>\n",
       "      <td>Lab</td>\n",
       "    </tr>\n",
       "    <tr>\n",
       "      <th>90</th>\n",
       "      <td>Diagnostic tests</td>\n",
       "      <td>Hematology</td>\n",
       "      <td>WBC - high</td>\n",
       "      <td>icu_24_hr_wbc_max</td>\n",
       "      <td>Labs</td>\n",
       "      <td>lab_category</td>\n",
       "      <td>CLIF-2.1.0 (Live)</td>\n",
       "      <td>wbc</td>\n",
       "      <td>Patient’s WBC (highest) captured during first ...</td>\n",
       "      <td>[continuous] \\nUnits: x109/L</td>\n",
       "      <td>...</td>\n",
       "      <td>NaN</td>\n",
       "      <td>NaN</td>\n",
       "      <td>NaN</td>\n",
       "      <td>NaN</td>\n",
       "      <td>NaN</td>\n",
       "      <td>NaN</td>\n",
       "      <td>NaN</td>\n",
       "      <td>1</td>\n",
       "      <td>NaN</td>\n",
       "      <td>Lab</td>\n",
       "    </tr>\n",
       "    <tr>\n",
       "      <th>91</th>\n",
       "      <td>Diagnostic tests</td>\n",
       "      <td>Coagulation</td>\n",
       "      <td>PRISM Prothrombin time - high</td>\n",
       "      <td>prism_pt_max</td>\n",
       "      <td>Labs</td>\n",
       "      <td>lab_category</td>\n",
       "      <td>CLIF 2.2 (Upcoming release)</td>\n",
       "      <td>pt</td>\n",
       "      <td>Patient's prothrombin time (highest) captured ...</td>\n",
       "      <td>[continuous] \\nUnits: seconds</td>\n",
       "      <td>...</td>\n",
       "      <td>NaN</td>\n",
       "      <td>NaN</td>\n",
       "      <td>NaN</td>\n",
       "      <td>1.0</td>\n",
       "      <td>NaN</td>\n",
       "      <td>NaN</td>\n",
       "      <td>NaN</td>\n",
       "      <td>1</td>\n",
       "      <td>NaN</td>\n",
       "      <td>Lab</td>\n",
       "    </tr>\n",
       "    <tr>\n",
       "      <th>92</th>\n",
       "      <td>Diagnostic tests</td>\n",
       "      <td>Coagulation</td>\n",
       "      <td>International Normalized Ratio (INR) - high</td>\n",
       "      <td>icu_24hr_inr_max</td>\n",
       "      <td>Labs</td>\n",
       "      <td>lab_category</td>\n",
       "      <td>CLIF 2.2 (Upcoming release)</td>\n",
       "      <td>inr</td>\n",
       "      <td>Patient's INR (highest) captured during first ...</td>\n",
       "      <td>[continuous]</td>\n",
       "      <td>...</td>\n",
       "      <td>NaN</td>\n",
       "      <td>NaN</td>\n",
       "      <td>NaN</td>\n",
       "      <td>NaN</td>\n",
       "      <td>NaN</td>\n",
       "      <td>NaN</td>\n",
       "      <td>NaN</td>\n",
       "      <td>0</td>\n",
       "      <td>1.0</td>\n",
       "      <td>Lab</td>\n",
       "    </tr>\n",
       "  </tbody>\n",
       "</table>\n",
       "<p>5 rows × 24 columns</p>\n",
       "</div>"
      ],
      "text/plain": [
       "              Domain   Sub-domain  \\\n",
       "88  Diagnostic tests   Hematology   \n",
       "89  Diagnostic tests   Hematology   \n",
       "90  Diagnostic tests   Hematology   \n",
       "91  Diagnostic tests  Coagulation   \n",
       "92  Diagnostic tests  Coagulation   \n",
       "\n",
       "                                        Concept Common Data Element  \\\n",
       "88                            Hematocrit - high    icu_24hr_hct_max   \n",
       "89                            Hemoglobin - high    icu_24hr_hgb_max   \n",
       "90                                   WBC - high   icu_24_hr_wbc_max   \n",
       "91                PRISM Prothrombin time - high        prism_pt_max   \n",
       "92  International Normalized Ratio (INR) - high    icu_24hr_inr_max   \n",
       "\n",
       "   CLIF Table CLIF mCIDE Crosswalk column                 CLIF version  \\\n",
       "88       Labs                lab_category  CLIF 2.2 (Upcoming release)   \n",
       "89       Labs                lab_category            CLIF-2.1.0 (Live)   \n",
       "90       Labs                lab_category            CLIF-2.1.0 (Live)   \n",
       "91       Labs                lab_category  CLIF 2.2 (Upcoming release)   \n",
       "92       Labs                lab_category  CLIF 2.2 (Upcoming release)   \n",
       "\n",
       "         mCIDE                                         Definition  \\\n",
       "88         TBD  Patient's hematocrit (highest during first 24 ...   \n",
       "89  hemoglobin  Patient's hemoglobin level (highest) captured ...   \n",
       "90         wbc  Patient’s WBC (highest) captured during first ...   \n",
       "91          pt  Patient's prothrombin time (highest) captured ...   \n",
       "92         inr  Patient's INR (highest) captured during first ...   \n",
       "\n",
       "                             Coding  ... SOFA PSOFA  nSOFA PRISM III  PIM3  \\\n",
       "88  [continuous] \\nUnits: percent %  ...  NaN   NaN    NaN       NaN   NaN   \n",
       "89      [continuous] \\nUnits: g/dL   ...  NaN   NaN    NaN       NaN   NaN   \n",
       "90    [continuous] \\nUnits: x109/L   ...  NaN   NaN    NaN       NaN   NaN   \n",
       "91   [continuous] \\nUnits: seconds   ...  NaN   NaN    NaN       1.0   NaN   \n",
       "92                    [continuous]   ...  NaN   NaN    NaN       NaN   NaN   \n",
       "\n",
       "    Charlson CI  MRC-ICU  SOI count  No SOI score  Potential EHR Datasource  \n",
       "88          NaN      NaN          1           NaN                       Lab  \n",
       "89          NaN      NaN          0           1.0                       Lab  \n",
       "90          NaN      NaN          1           NaN                       Lab  \n",
       "91          NaN      NaN          1           NaN                       Lab  \n",
       "92          NaN      NaN          0           1.0                       Lab  \n",
       "\n",
       "[5 rows x 24 columns]"
      ]
     },
     "execution_count": 3,
     "metadata": {},
     "output_type": "execute_result"
    }
   ],
   "source": [
    "mapper = clif_c2d2_mapping[(clif_c2d2_mapping['Domain']=='Diagnostic tests') & (clif_c2d2_mapping['CLIF Table']=='Labs')]\n",
    "mapper.head()"
   ]
  },
  {
   "cell_type": "code",
   "execution_count": 4,
   "id": "553cdb5d",
   "metadata": {
    "execution": {
     "iopub.execute_input": "2025-06-04T15:39:33.965102Z",
     "iopub.status.busy": "2025-06-04T15:39:33.965102Z",
     "iopub.status.idle": "2025-06-04T15:39:40.275653Z",
     "shell.execute_reply": "2025-06-04T15:39:40.275653Z"
    },
    "papermill": {
     "duration": 6.32088,
     "end_time": "2025-06-04T15:39:40.275653",
     "exception": false,
     "start_time": "2025-06-04T15:39:33.954773",
     "status": "completed"
    },
    "tags": []
   },
   "outputs": [
    {
     "data": {
      "application/vnd.jupyter.widget-view+json": {
       "model_id": "9c40d96baf2b4fac8effd8391adb0cb2",
       "version_major": 2,
       "version_minor": 0
      },
      "text/plain": [
       "FloatProgress(value=0.0, layout=Layout(width='auto'), style=ProgressStyle(bar_color='black'))"
      ]
     },
     "metadata": {},
     "output_type": "display_data"
    },
    {
     "name": "stdout",
     "output_type": "stream",
     "text": [
      "Data loaded successfully from C:/Users/vchaudha/Downloads/rush_parquet_2\\clif_labs.parquet\n"
     ]
    },
    {
     "name": "stdout",
     "output_type": "stream",
     "text": [
      "WARNING: lab_result_dttm: Naive datetime, NOT converting. Assuming it's in your LOCAL ZONE. Please check ETL!\n"
     ]
    }
   ],
   "source": [
    "labs_required_columns = [\n",
    "    'hospitalization_id',\n",
    "    'lab_result_dttm',\n",
    "    'lab_category',\n",
    "    'lab_value_numeric'\n",
    "]\n",
    "labs_of_interest = ['wbc','hemoglobin','creatinine']\n",
    "\n",
    "labs_filters = {\n",
    "    'hospitalization_id': cohort['hospitalization_id'].unique().tolist(),\n",
    "    'lab_category': labs_of_interest\n",
    "}\n",
    "labs_cohort = pyCLIF.load_data('clif_labs', columns=labs_required_columns, filters=labs_filters)\n",
    "labs_cohort = pyCLIF.convert_datetime_columns_to_site_tz(labs_cohort, pyCLIF.helper['timezone'])\n",
    "labs_cohort['lab_value_numeric'] = pd.to_numeric(labs_cohort['lab_value_numeric'], errors='coerce')"
   ]
  },
  {
   "cell_type": "code",
   "execution_count": 5,
   "id": "6795efa8",
   "metadata": {
    "execution": {
     "iopub.execute_input": "2025-06-04T15:39:40.311826Z",
     "iopub.status.busy": "2025-06-04T15:39:40.303510Z",
     "iopub.status.idle": "2025-06-04T15:39:41.346790Z",
     "shell.execute_reply": "2025-06-04T15:39:41.346790Z"
    },
    "papermill": {
     "duration": 1.053532,
     "end_time": "2025-06-04T15:39:41.346790",
     "exception": false,
     "start_time": "2025-06-04T15:39:40.293258",
     "status": "completed"
    },
    "tags": []
   },
   "outputs": [],
   "source": [
    "# Select relevant columns and drop duplicates\n",
    "cohort_trimmed = cohort[['hospitalization_id', '24hr_icu_in_dttm', '24hr_icu_out_dttm']].drop_duplicates()\n",
    "\n",
    "# Perform inner join on 'hospitalization_id'\n",
    "labs_joined_df = pd.merge(cohort_trimmed, labs_cohort, on='hospitalization_id', how='inner')"
   ]
  },
  {
   "cell_type": "code",
   "execution_count": 6,
   "id": "487c83b4",
   "metadata": {
    "execution": {
     "iopub.execute_input": "2025-06-04T15:39:41.375159Z",
     "iopub.status.busy": "2025-06-04T15:39:41.373031Z",
     "iopub.status.idle": "2025-06-04T15:39:41.602078Z",
     "shell.execute_reply": "2025-06-04T15:39:41.601551Z"
    },
    "papermill": {
     "duration": 0.243044,
     "end_time": "2025-06-04T15:39:41.605811",
     "exception": false,
     "start_time": "2025-06-04T15:39:41.362767",
     "status": "completed"
    },
    "tags": []
   },
   "outputs": [],
   "source": [
    "# Filter rows where recorded_dttm is within the ICU 24hr window\n",
    "labs_filtered_df = labs_joined_df[\n",
    "    (labs_joined_df['lab_result_dttm'] >= labs_joined_df['24hr_icu_in_dttm']) &\n",
    "    (labs_joined_df['lab_result_dttm'] <= labs_joined_df['24hr_icu_out_dttm'])\n",
    "]\n",
    "\n",
    "# Group by hospitalization_id and labs_category, and compute min/max of labs_value\n",
    "labs_agg_df = (\n",
    "    labs_filtered_df\n",
    "    .groupby(['hospitalization_id', 'lab_category'])['lab_value_numeric']\n",
    "    .agg(['min', 'max'])\n",
    "    .unstack(level='lab_category')  # Pivot labs_category into columns\n",
    ")\n",
    "# Rename columns to format: labs_category_min, labs_category_max\n",
    "labs_agg_df.columns = [f'icu_24hr_{labs}_{stat}' for stat, labs in labs_agg_df.columns]"
   ]
  },
  {
   "cell_type": "code",
   "execution_count": 7,
   "id": "af6ca50a",
   "metadata": {
    "execution": {
     "iopub.execute_input": "2025-06-04T15:39:41.637163Z",
     "iopub.status.busy": "2025-06-04T15:39:41.637163Z",
     "iopub.status.idle": "2025-06-04T15:39:41.701091Z",
     "shell.execute_reply": "2025-06-04T15:39:41.701091Z"
    },
    "papermill": {
     "duration": 0.082395,
     "end_time": "2025-06-04T15:39:41.705365",
     "exception": false,
     "start_time": "2025-06-04T15:39:41.622970",
     "status": "completed"
    },
    "tags": []
   },
   "outputs": [],
   "source": [
    "labs_agg_df.reset_index().to_parquet('../output/final/c2d2_diagnostic_tests.parquet',index=False)"
   ]
  }
 ],
 "metadata": {
  "kernelspec": {
   "display_name": ".clif_c2d2",
   "language": "python",
   "name": "python3"
  },
  "language_info": {
   "codemirror_mode": {
    "name": "ipython",
    "version": 3
   },
   "file_extension": ".py",
   "mimetype": "text/x-python",
   "name": "python",
   "nbconvert_exporter": "python",
   "pygments_lexer": "ipython3",
   "version": "3.11.5"
  },
  "papermill": {
   "default_parameters": {},
   "duration": 14.074735,
   "end_time": "2025-06-04T15:39:42.525741",
   "environment_variables": {},
   "exception": null,
   "input_path": "06_diagnostic_tests.ipynb",
   "output_path": "06_diagnostic_tests.ipynb",
   "parameters": {},
   "start_time": "2025-06-04T15:39:28.451006",
   "version": "2.6.0"
  },
  "widgets": {
   "application/vnd.jupyter.widget-state+json": {
    "state": {
     "02b3ece8c07a471fbabf7a0162fb19d7": {
      "model_module": "@jupyter-widgets/controls",
      "model_module_version": "2.0.0",
      "model_name": "ProgressStyleModel",
      "state": {
       "_model_module": "@jupyter-widgets/controls",
       "_model_module_version": "2.0.0",
       "_model_name": "ProgressStyleModel",
       "_view_count": null,
       "_view_module": "@jupyter-widgets/base",
       "_view_module_version": "2.0.0",
       "_view_name": "StyleView",
       "bar_color": "black",
       "description_width": ""
      }
     },
     "9c40d96baf2b4fac8effd8391adb0cb2": {
      "model_module": "@jupyter-widgets/controls",
      "model_module_version": "2.0.0",
      "model_name": "FloatProgressModel",
      "state": {
       "_dom_classes": [],
       "_model_module": "@jupyter-widgets/controls",
       "_model_module_version": "2.0.0",
       "_model_name": "FloatProgressModel",
       "_view_count": null,
       "_view_module": "@jupyter-widgets/controls",
       "_view_module_version": "2.0.0",
       "_view_name": "ProgressView",
       "bar_style": "",
       "description": "",
       "description_allow_html": false,
       "layout": "IPY_MODEL_ed59abc8dde14893ba173e497fb09e9c",
       "max": 100.0,
       "min": 0.0,
       "orientation": "horizontal",
       "style": "IPY_MODEL_02b3ece8c07a471fbabf7a0162fb19d7",
       "tabbable": null,
       "tooltip": null,
       "value": 100.0
      }
     },
     "ed59abc8dde14893ba173e497fb09e9c": {
      "model_module": "@jupyter-widgets/base",
      "model_module_version": "2.0.0",
      "model_name": "LayoutModel",
      "state": {
       "_model_module": "@jupyter-widgets/base",
       "_model_module_version": "2.0.0",
       "_model_name": "LayoutModel",
       "_view_count": null,
       "_view_module": "@jupyter-widgets/base",
       "_view_module_version": "2.0.0",
       "_view_name": "LayoutView",
       "align_content": null,
       "align_items": null,
       "align_self": null,
       "border_bottom": null,
       "border_left": null,
       "border_right": null,
       "border_top": null,
       "bottom": null,
       "display": null,
       "flex": null,
       "flex_flow": null,
       "grid_area": null,
       "grid_auto_columns": null,
       "grid_auto_flow": null,
       "grid_auto_rows": null,
       "grid_column": null,
       "grid_gap": null,
       "grid_row": null,
       "grid_template_areas": null,
       "grid_template_columns": null,
       "grid_template_rows": null,
       "height": null,
       "justify_content": null,
       "justify_items": null,
       "left": null,
       "margin": null,
       "max_height": null,
       "max_width": null,
       "min_height": null,
       "min_width": null,
       "object_fit": null,
       "object_position": null,
       "order": null,
       "overflow": null,
       "padding": null,
       "right": null,
       "top": null,
       "visibility": null,
       "width": "auto"
      }
     }
    },
    "version_major": 2,
    "version_minor": 0
   }
  }
 },
 "nbformat": 4,
 "nbformat_minor": 5
}