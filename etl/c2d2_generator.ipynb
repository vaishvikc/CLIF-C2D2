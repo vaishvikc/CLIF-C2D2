{
 "cells": [
  {
   "cell_type": "markdown",
   "id": "d7de2af0",
   "metadata": {},
   "source": [
    "# CLIF to C2D2 Dataset"
   ]
  },
  {
   "cell_type": "markdown",
   "id": "6e7ca669",
   "metadata": {},
   "source": [
    "Imports"
   ]
  },
  {
   "cell_type": "code",
   "execution_count": null,
   "id": "06a18266",
   "metadata": {},
   "outputs": [],
   "source": [
    "import pandas as pd\n",
    "import numpy as np\n",
    "import matplotlib.pyplot as plt\n",
    "import os\n",
    "import json\n",
    "import pyCLIF\n",
    "from datetime import timedelta\n",
    "import pyarrow\n",
    "import waterfall\n",
    "import warnings\n",
    "warnings.filterwarnings('ignore')\n",
    "\n",
    "output_folder = '../output/final'\n",
    "if not os.path.exists(output_folder):\n",
    "    os.makedirs(output_folder)"
   ]
  },
  {
   "cell_type": "markdown",
   "id": "e46b1db7",
   "metadata": {},
   "source": [
    "# Cohort Building"
   ]
  },
  {
   "cell_type": "code",
   "execution_count": null,
   "id": "79d263ac",
   "metadata": {},
   "outputs": [],
   "source": [
    "clif_c2d2_mapping = pd.read_excel('../mapping/ccm-53-e1045-s002.xlsx')"
   ]
  },
  {
   "cell_type": "markdown",
   "id": "61523f82",
   "metadata": {},
   "source": [
    "## First 24 hr of ICU cohort generation"
   ]
  },
  {
   "cell_type": "code",
   "execution_count": null,
   "id": "58ee9f09",
   "metadata": {},
   "outputs": [],
   "source": [
    "adt = pyCLIF.load_data('clif_patient')"
   ]
  },
  {
   "cell_type": "code",
   "execution_count": null,
   "id": "dadec3ce",
   "metadata": {},
   "outputs": [],
   "source": [
    "adt"
   ]
  }
 ],
 "metadata": {
  "kernelspec": {
   "display_name": ".clif_c2d2",
   "language": "python",
   "name": "python3"
  },
  "language_info": {
   "codemirror_mode": {
    "name": "ipython",
    "version": 3
   },
   "file_extension": ".py",
   "mimetype": "text/x-python",
   "name": "python",
   "nbconvert_exporter": "python",
   "pygments_lexer": "ipython3",
   "version": "3.11.5"
  }
 },
 "nbformat": 4,
 "nbformat_minor": 5
}
