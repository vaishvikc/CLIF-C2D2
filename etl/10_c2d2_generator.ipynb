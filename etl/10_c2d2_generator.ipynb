{
 "cells": [
  {
   "cell_type": "code",
   "execution_count": 1,
   "id": "e104d142",
   "metadata": {
    "execution": {
     "iopub.execute_input": "2025-06-04T02:52:45.763230Z",
     "iopub.status.busy": "2025-06-04T02:52:45.763230Z",
     "iopub.status.idle": "2025-06-04T02:52:49.101130Z",
     "shell.execute_reply": "2025-06-04T02:52:49.101130Z"
    },
    "papermill": {
     "duration": 3.350205,
     "end_time": "2025-06-04T02:52:49.101130",
     "exception": false,
     "start_time": "2025-06-04T02:52:45.750925",
     "status": "completed"
    },
    "tags": []
   },
   "outputs": [
    {
     "name": "stdout",
     "output_type": "stream",
     "text": [
      "✅ Loaded configuration from config.json\n"
     ]
    }
   ],
   "source": [
    "import pandas as pd\n",
    "import numpy as np\n",
    "import matplotlib.pyplot as plt\n",
    "import os\n",
    "import json\n",
    "import pyCLIF\n",
    "from datetime import timedelta\n",
    "from tableone import TableOne\n",
    "import pyarrow\n",
    "import waterfall\n",
    "import warnings\n",
    "warnings.filterwarnings('ignore')\n",
    "import glob"
   ]
  },
  {
   "cell_type": "code",
   "execution_count": 2,
   "id": "56eb43cd",
   "metadata": {
    "execution": {
     "iopub.execute_input": "2025-06-04T02:52:49.121203Z",
     "iopub.status.busy": "2025-06-04T02:52:49.121203Z",
     "iopub.status.idle": "2025-06-04T02:52:49.958912Z",
     "shell.execute_reply": "2025-06-04T02:52:49.958912Z"
    },
    "papermill": {
     "duration": 0.852063,
     "end_time": "2025-06-04T02:52:49.963014",
     "exception": false,
     "start_time": "2025-06-04T02:52:49.110951",
     "status": "completed"
    },
    "tags": []
   },
   "outputs": [
    {
     "name": "stdout",
     "output_type": "stream",
     "text": [
      "joining: ../output/final\\c2d2_diagnostic_tests.parquet\n",
      "joining: ../output/final\\c2d2_interventions_crrt.parquet\n",
      "joining: ../output/final\\c2d2_interventions_rst.parquet\n",
      "joining: ../output/final\\c2d2_medications.parquet\n"
     ]
    },
    {
     "name": "stdout",
     "output_type": "stream",
     "text": [
      "joining: ../output/final\\c2d2_objective_assessments.parquet\n"
     ]
    }
   ],
   "source": [
    "# Load the cohort DataFrame\n",
    "cohort = pd.read_parquet('../output/final/c2d2_cohort.parquet')\n",
    "\n",
    "# Define the join key — replace with actual key used in your data\n",
    "join_key = 'hospitalization_id'  # adjust as needed\n",
    "\n",
    "# Get list of other parquet files (excluding the cohort itself)\n",
    "parquet_files = glob.glob('../output/final/*.parquet')\n",
    "parquet_files = [f for f in parquet_files if 'c2d2_cohort' not in os.path.basename(f)]\n",
    "\n",
    "# Iteratively merge\n",
    "for file in parquet_files:\n",
    "    print('joining:',file)\n",
    "    df = pd.read_parquet(file)\n",
    "    cohort = cohort.merge(df, on=join_key, how='left')\n"
   ]
  },
  {
   "cell_type": "code",
   "execution_count": 3,
   "id": "9afca1de",
   "metadata": {
    "execution": {
     "iopub.execute_input": "2025-06-04T02:52:49.985745Z",
     "iopub.status.busy": "2025-06-04T02:52:49.985745Z",
     "iopub.status.idle": "2025-06-04T02:52:49.996830Z",
     "shell.execute_reply": "2025-06-04T02:52:49.996830Z"
    },
    "papermill": {
     "duration": 0.021304,
     "end_time": "2025-06-04T02:52:49.996830",
     "exception": false,
     "start_time": "2025-06-04T02:52:49.975526",
     "status": "completed"
    },
    "tags": []
   },
   "outputs": [
    {
     "name": "stdout",
     "output_type": "stream",
     "text": [
      "c2d2 elements: Index(['hospitalization_id', '24hr_icu_in_dttm', 'icu_out_dttm',\n",
      "       'location_category', 'hospital_id', 'icu_duration_minutes',\n",
      "       '24hr_icu_out_dttm', 'prism_2hr_before_icu_admission',\n",
      "       'prism_4hr_after_icu_admission', 'admission_dttm', 'discharge_dttm',\n",
      "       'all_icu_stays', 'icu_los', 'hosp_los', 'icu_admit_age',\n",
      "       'hosp_admit_source', 'hosp_disch_disp', 'sex', 'race', 'ethnicity',\n",
      "       'icu_24hr_creatinine_min', 'icu_24hr_hemoglobin_min',\n",
      "       'icu_24hr_wbc_min', 'icu_24hr_creatinine_max',\n",
      "       'icu_24hr_hemoglobin_max', 'icu_24hr_wbc_max', 'icu_any_crrt',\n",
      "       'icu_any_imv', 'icu_24hr_infusion_norepinephrine_max',\n",
      "       'icu_24hr_heart_rate_min', 'icu_24hr_map_min', 'icu_24hr_temp_c_min',\n",
      "       'icu_24hr_heart_rate_max', 'icu_24hr_map_max', 'icu_24hr_temp_c_max'],\n",
      "      dtype='object')\n"
     ]
    }
   ],
   "source": [
    "print('c2d2 elements:',cohort.columns)"
   ]
  },
  {
   "cell_type": "code",
   "execution_count": 4,
   "id": "90cfae0d",
   "metadata": {
    "execution": {
     "iopub.execute_input": "2025-06-04T02:52:50.006583Z",
     "iopub.status.busy": "2025-06-04T02:52:50.006583Z",
     "iopub.status.idle": "2025-06-04T02:52:50.019686Z",
     "shell.execute_reply": "2025-06-04T02:52:50.018157Z"
    },
    "papermill": {
     "duration": 0.015225,
     "end_time": "2025-06-04T02:52:50.019686",
     "exception": false,
     "start_time": "2025-06-04T02:52:50.004461",
     "status": "completed"
    },
    "tags": []
   },
   "outputs": [],
   "source": [
    "cohort['icu_los'] = cohort['icu_los'] / (60 * 24)\n",
    "cohort['hosp_los'] = cohort['hosp_los'] / (60 * 24)"
   ]
  },
  {
   "cell_type": "code",
   "execution_count": null,
   "id": "c654a36b",
   "metadata": {
    "execution": {
     "iopub.execute_input": "2025-06-04T02:52:50.027406Z",
     "iopub.status.busy": "2025-06-04T02:52:50.027406Z",
     "iopub.status.idle": "2025-06-04T02:52:50.657086Z",
     "shell.execute_reply": "2025-06-04T02:52:50.657086Z"
    },
    "papermill": {
     "duration": 0.635478,
     "end_time": "2025-06-04T02:52:50.660717",
     "exception": false,
     "start_time": "2025-06-04T02:52:50.025239",
     "status": "completed"
    },
    "tags": []
   },
   "outputs": [],
   "source": [
    "# Define the full list of columns in your DataFrame\n",
    "columns = [\n",
    "    'icu_admit_age', 'sex', 'race', 'ethnicity',\n",
    "    'hosp_disch_disp', 'icu_any_crrt', 'icu_any_imv', 'icu_los', 'hosp_los',\n",
    "    'icu_24hr_hemoglobin_min', 'icu_24hr_creatinine_max','icu_24hr_wbc_max', \n",
    "    'icu_24hr_infusion_norepinephrine_max', \n",
    "    'icu_24hr_map_min','icu_24hr_heart_rate_max', 'icu_24hr_temp_c_max'\n",
    "]\n",
    "\n",
    "# Define which columns are categorical\n",
    "categorical = [\n",
    "    'sex', 'race', 'ethnicity', \n",
    "    'hosp_disch_disp', 'icu_any_crrt', 'icu_any_imv'\n",
    "]\n",
    "nonnorm = [ 'icu_los', 'hosp_los','icu_24hr_hemoglobin_min', 'icu_24hr_creatinine_max',\n",
    "    'icu_24hr_wbc_max', 'icu_any_crrt', 'icu_any_imv',\n",
    "    'icu_24hr_infusion_norepinephrine_max', 'icu_24hr_map_min',\n",
    "    'icu_24hr_heart_rate_max', 'icu_24hr_temp_c_max']\n",
    "# Create Table 1\n",
    "table1 = TableOne(\n",
    "    cohort,\n",
    "    columns=columns,\n",
    "    categorical=categorical,\n",
    "    nonnormal=nonnorm,   \n",
    "    missing=False    \n",
    ")\n",
    "\n",
    "# Display Table 1\n",
    "table1"
   ]
  },
  {
   "cell_type": "code",
   "execution_count": 6,
   "id": "cac1d143",
   "metadata": {
    "execution": {
     "iopub.execute_input": "2025-06-04T02:52:50.683440Z",
     "iopub.status.busy": "2025-06-04T02:52:50.683440Z",
     "iopub.status.idle": "2025-06-04T02:52:50.696911Z",
     "shell.execute_reply": "2025-06-04T02:52:50.696911Z"
    },
    "papermill": {
     "duration": 0.023723,
     "end_time": "2025-06-04T02:52:50.696911",
     "exception": false,
     "start_time": "2025-06-04T02:52:50.673188",
     "status": "completed"
    },
    "tags": []
   },
   "outputs": [],
   "source": [
    "table1.to_csv('../output/t1_c2d2.csv')"
   ]
  }
 ],
 "metadata": {
  "kernelspec": {
   "display_name": ".clif_c2d2",
   "language": "python",
   "name": "python3"
  },
  "language_info": {
   "codemirror_mode": {
    "name": "ipython",
    "version": 3
   },
   "file_extension": ".py",
   "mimetype": "text/x-python",
   "name": "python",
   "nbconvert_exporter": "python",
   "pygments_lexer": "ipython3",
   "version": "3.11.5"
  },
  "papermill": {
   "default_parameters": {},
   "duration": 11.078515,
   "end_time": "2025-06-04T02:52:53.879541",
   "environment_variables": {},
   "exception": null,
   "input_path": "10_c2d2_generator.ipynb",
   "output_path": "10_c2d2_generator.ipynb",
   "parameters": {},
   "start_time": "2025-06-04T02:52:42.801026",
   "version": "2.6.0"
  }
 },
 "nbformat": 4,
 "nbformat_minor": 5
}
