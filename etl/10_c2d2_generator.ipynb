{
 "cells": [
  {
   "cell_type": "code",
   "execution_count": 1,
   "id": "e104d142",
   "metadata": {
    "execution": {
     "iopub.execute_input": "2025-06-04T15:41:18.499376Z",
     "iopub.status.busy": "2025-06-04T15:41:18.499376Z",
     "iopub.status.idle": "2025-06-04T15:41:21.086423Z",
     "shell.execute_reply": "2025-06-04T15:41:21.086423Z"
    },
    "papermill": {
     "duration": 2.604581,
     "end_time": "2025-06-04T15:41:21.091603",
     "exception": false,
     "start_time": "2025-06-04T15:41:18.487022",
     "status": "completed"
    },
    "tags": []
   },
   "outputs": [
    {
     "name": "stdout",
     "output_type": "stream",
     "text": [
      "✅ Loaded configuration from config.json\n"
     ]
    }
   ],
   "source": [
    "import pandas as pd\n",
    "import numpy as np\n",
    "import matplotlib.pyplot as plt\n",
    "import os\n",
    "import json\n",
    "import pyCLIF\n",
    "from datetime import timedelta\n",
    "from tableone import TableOne\n",
    "import pyarrow\n",
    "import waterfall\n",
    "import warnings\n",
    "warnings.filterwarnings('ignore')\n",
    "import glob"
   ]
  },
  {
   "cell_type": "code",
   "execution_count": 2,
   "id": "56eb43cd",
   "metadata": {
    "execution": {
     "iopub.execute_input": "2025-06-04T15:41:21.111993Z",
     "iopub.status.busy": "2025-06-04T15:41:21.111993Z",
     "iopub.status.idle": "2025-06-04T15:41:21.915394Z",
     "shell.execute_reply": "2025-06-04T15:41:21.915394Z"
    },
    "papermill": {
     "duration": 0.817296,
     "end_time": "2025-06-04T15:41:21.919130",
     "exception": false,
     "start_time": "2025-06-04T15:41:21.101834",
     "status": "completed"
    },
    "tags": []
   },
   "outputs": [
    {
     "name": "stdout",
     "output_type": "stream",
     "text": [
      "joining: ../output/final\\c2d2_diagnostic_tests.parquet\n",
      "joining: ../output/final\\c2d2_interventions_crrt.parquet\n",
      "joining: ../output/final\\c2d2_interventions_rst.parquet\n",
      "joining: ../output/final\\c2d2_medications.parquet\n",
      "joining: ../output/final\\c2d2_objective_assessments.parquet\n"
     ]
    }
   ],
   "source": [
    "# Load the cohort DataFrame\n",
    "cohort = pd.read_parquet('../output/final/c2d2_cohort.parquet')\n",
    "\n",
    "# Define the join key — replace with actual key used in your data\n",
    "join_key = 'hospitalization_id'  # adjust as needed\n",
    "\n",
    "# Get list of other parquet files (excluding the cohort itself)\n",
    "parquet_files = glob.glob('../output/final/*.parquet')\n",
    "parquet_files = [f for f in parquet_files if 'c2d2_cohort' not in os.path.basename(f)]\n",
    "\n",
    "# Iteratively merge\n",
    "for file in parquet_files:\n",
    "    print('joining:',file)\n",
    "    df = pd.read_parquet(file)\n",
    "    cohort = cohort.merge(df, on=join_key, how='left')\n"
   ]
  },
  {
   "cell_type": "code",
   "execution_count": 3,
   "id": "9afca1de",
   "metadata": {
    "execution": {
     "iopub.execute_input": "2025-06-04T15:41:21.942265Z",
     "iopub.status.busy": "2025-06-04T15:41:21.942265Z",
     "iopub.status.idle": "2025-06-04T15:41:21.952245Z",
     "shell.execute_reply": "2025-06-04T15:41:21.951708Z"
    },
    "papermill": {
     "duration": 0.030645,
     "end_time": "2025-06-04T15:41:21.954349",
     "exception": false,
     "start_time": "2025-06-04T15:41:21.923704",
     "status": "completed"
    },
    "tags": []
   },
   "outputs": [
    {
     "name": "stdout",
     "output_type": "stream",
     "text": [
      "c2d2 elements: Index(['hospitalization_id', '24hr_icu_in_dttm', 'icu_out_dttm',\n",
      "       'location_category', 'hospital_id', 'icu_duration_minutes',\n",
      "       '24hr_icu_out_dttm', 'prism_2hr_before_icu_admission',\n",
      "       'prism_4hr_after_icu_admission', 'admission_dttm', 'discharge_dttm',\n",
      "       'all_icu_stays', 'icu_los', 'hosp_los', 'icu_admit_age',\n",
      "       'hosp_admit_source', 'hosp_disch_disp', 'sex', 'race', 'ethnicity',\n",
      "       'icu_24hr_creatinine_min', 'icu_24hr_hemoglobin_min',\n",
      "       'icu_24hr_wbc_min', 'icu_24hr_creatinine_max',\n",
      "       'icu_24hr_hemoglobin_max', 'icu_24hr_wbc_max', 'icu_any_crrt',\n",
      "       'icu_any_imv', 'icu_24hr_infusion_norepinephrine_max',\n",
      "       'icu_24hr_heart_rate_min', 'icu_24hr_map_min', 'icu_24hr_temp_c_min',\n",
      "       'icu_24hr_heart_rate_max', 'icu_24hr_map_max', 'icu_24hr_temp_c_max'],\n",
      "      dtype='object')\n"
     ]
    }
   ],
   "source": [
    "print('c2d2 elements:',cohort.columns)"
   ]
  },
  {
   "cell_type": "code",
   "execution_count": null,
   "id": "c654a36b",
   "metadata": {
    "execution": {
     "iopub.execute_input": "2025-06-04T15:41:21.964717Z",
     "iopub.status.busy": "2025-06-04T15:41:21.964717Z",
     "iopub.status.idle": "2025-06-04T15:41:22.584910Z",
     "shell.execute_reply": "2025-06-04T15:41:22.582925Z"
    },
    "papermill": {
     "duration": 0.634543,
     "end_time": "2025-06-04T15:41:22.588892",
     "exception": false,
     "start_time": "2025-06-04T15:41:21.954349",
     "status": "completed"
    },
    "tags": []
   },
   "outputs": [],
   "source": [
    "# Define the full list of columns in your DataFrame\n",
    "columns = [\n",
    "    # Demographics\n",
    "    'icu_admit_age', 'sex', 'race', 'ethnicity',\n",
    "    \n",
    "    # Vitals\n",
    "    'icu_24hr_temp_c_max', 'icu_24hr_heart_rate_max', 'icu_24hr_map_min',\n",
    "    'icu_24hr_infusion_norepinephrine_max',\n",
    "    \n",
    "    # Labs\n",
    "    'icu_24hr_hemoglobin_min', 'icu_24hr_creatinine_max', 'icu_24hr_wbc_max',\n",
    "    \n",
    "    # Support Devices\n",
    "    'icu_any_crrt', 'icu_any_imv',\n",
    "    \n",
    "    # Outcomes\n",
    "    'icu_los', 'hosp_los', 'hosp_disch_disp',\n",
    "]\n",
    "\n",
    "# Define which columns are categorical\n",
    "categorical = [\n",
    "    'sex', 'race', 'ethnicity', \n",
    "    'hosp_disch_disp', 'icu_any_crrt', 'icu_any_imv'\n",
    "]\n",
    "nonnorm = [ 'icu_los', 'hosp_los','icu_24hr_hemoglobin_min', 'icu_24hr_creatinine_max',\n",
    "    'icu_24hr_wbc_max', 'icu_any_crrt', 'icu_any_imv',\n",
    "    'icu_24hr_infusion_norepinephrine_max', 'icu_24hr_map_min',\n",
    "    'icu_24hr_heart_rate_max', 'icu_24hr_temp_c_max']\n",
    "# Create Table 1\n",
    "table1 = TableOne(\n",
    "    cohort,\n",
    "    columns=columns,\n",
    "    categorical=categorical,\n",
    "    nonnormal=nonnorm,   \n",
    "    missing=False    \n",
    ")\n",
    "\n",
    "# Display Table 1\n",
    "table1"
   ]
  },
  {
   "cell_type": "code",
   "execution_count": 5,
   "id": "cac1d143",
   "metadata": {
    "execution": {
     "iopub.execute_input": "2025-06-04T15:41:22.612090Z",
     "iopub.status.busy": "2025-06-04T15:41:22.612090Z",
     "iopub.status.idle": "2025-06-04T15:41:22.658170Z",
     "shell.execute_reply": "2025-06-04T15:41:22.658170Z"
    },
    "papermill": {
     "duration": 0.05648,
     "end_time": "2025-06-04T15:41:22.661302",
     "exception": false,
     "start_time": "2025-06-04T15:41:22.604822",
     "status": "completed"
    },
    "tags": []
   },
   "outputs": [],
   "source": [
    "table1.to_csv(\n",
    "    f\"\"\"../output/t1_c2d2_{cohort.admission_dttm.dt.year.min()}_{cohort.admission_dttm.dt.year.max()}_{pyCLIF.helper['site_name']}.csv\"\"\"\n",
    ")"
   ]
  }
 ],
 "metadata": {
  "kernelspec": {
   "display_name": ".clif_c2d2",
   "language": "python",
   "name": "python3"
  },
  "language_info": {
   "codemirror_mode": {
    "name": "ipython",
    "version": 3
   },
   "file_extension": ".py",
   "mimetype": "text/x-python",
   "name": "python",
   "nbconvert_exporter": "python",
   "pygments_lexer": "ipython3",
   "version": "3.11.5"
  },
  "papermill": {
   "default_parameters": {},
   "duration": 10.024277,
   "end_time": "2025-06-04T15:41:25.765389",
   "environment_variables": {},
   "exception": null,
   "input_path": "10_c2d2_generator.ipynb",
   "output_path": "10_c2d2_generator.ipynb",
   "parameters": {},
   "start_time": "2025-06-04T15:41:15.741112",
   "version": "2.6.0"
  }
 },
 "nbformat": 4,
 "nbformat_minor": 5
}
