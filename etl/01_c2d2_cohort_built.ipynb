{
 "cells": [
  {
   "cell_type": "markdown",
   "id": "d7de2af0",
   "metadata": {
    "papermill": {
     "duration": 0.020193,
     "end_time": "2025-06-04T02:50:36.632238",
     "exception": false,
     "start_time": "2025-06-04T02:50:36.612045",
     "status": "completed"
    },
    "tags": []
   },
   "source": [
    "# CLIF to C2D2 Dataset"
   ]
  },
  {
   "cell_type": "markdown",
   "id": "6e7ca669",
   "metadata": {
    "papermill": {
     "duration": 0.001582,
     "end_time": "2025-06-04T02:50:36.644548",
     "exception": false,
     "start_time": "2025-06-04T02:50:36.642966",
     "status": "completed"
    },
    "tags": []
   },
   "source": [
    "Imports"
   ]
  },
  {
   "cell_type": "code",
   "execution_count": 1,
   "id": "06a18266",
   "metadata": {
    "execution": {
     "iopub.execute_input": "2025-06-04T02:50:36.665210Z",
     "iopub.status.busy": "2025-06-04T02:50:36.665210Z",
     "iopub.status.idle": "2025-06-04T02:50:38.651595Z",
     "shell.execute_reply": "2025-06-04T02:50:38.651595Z"
    },
    "papermill": {
     "duration": 1.996617,
     "end_time": "2025-06-04T02:50:38.651595",
     "exception": false,
     "start_time": "2025-06-04T02:50:36.654978",
     "status": "completed"
    },
    "tags": []
   },
   "outputs": [
    {
     "name": "stdout",
     "output_type": "stream",
     "text": [
      "✅ Loaded configuration from config.json\n"
     ]
    }
   ],
   "source": [
    "import pandas as pd\n",
    "import numpy as np\n",
    "import matplotlib.pyplot as plt\n",
    "import os\n",
    "import json\n",
    "import pyCLIF\n",
    "from datetime import timedelta\n",
    "import pyarrow\n",
    "import waterfall\n",
    "import warnings\n",
    "warnings.filterwarnings('ignore')\n",
    "\n",
    "output_folder = '../output/final'\n",
    "if not os.path.exists(output_folder):\n",
    "    os.makedirs(output_folder)"
   ]
  },
  {
   "cell_type": "code",
   "execution_count": 2,
   "id": "79d263ac",
   "metadata": {
    "execution": {
     "iopub.execute_input": "2025-06-04T02:50:38.690241Z",
     "iopub.status.busy": "2025-06-04T02:50:38.690241Z",
     "iopub.status.idle": "2025-06-04T02:50:39.102618Z",
     "shell.execute_reply": "2025-06-04T02:50:39.101582Z"
    },
    "papermill": {
     "duration": 0.430423,
     "end_time": "2025-06-04T02:50:39.104682",
     "exception": false,
     "start_time": "2025-06-04T02:50:38.674259",
     "status": "completed"
    },
    "tags": []
   },
   "outputs": [],
   "source": [
    "clif_c2d2_mapping = pd.read_excel('../mapping/ccm-53-e1045-s002.xlsx')"
   ]
  },
  {
   "cell_type": "markdown",
   "id": "61523f82",
   "metadata": {
    "papermill": {
     "duration": 0.010186,
     "end_time": "2025-06-04T02:50:39.135364",
     "exception": false,
     "start_time": "2025-06-04T02:50:39.125178",
     "status": "completed"
    },
    "tags": []
   },
   "source": [
    "## 🏥 ICU Cohort Generation\n",
    "\n",
    "The ICU cohort is derived by identifying hospitalizations that meet the following criteria:\n",
    "\n",
    "1. **Adult patients** (age ≥ 18 years at time of admission)\n",
    "2. **Received ICU-level care** during hospitalization\n",
    "3. **Completed at least 24 consecutive hours** in an ICU location\n",
    "\n",
    "### Key Steps:\n",
    "- Extract ICU admission and discharge timestamps from ICU transfer logs\n",
    "- Sort ICU stays chronologically within each hospitalization\n",
    "- Identify and retain the **first ICU stay** that meets the 24-hour requirement\n",
    "- Generate additional variables:\n",
    "  - `24hr_timestamp`: 24 hours from ICU admission\n",
    "  - `prism_2hr_before_icu_admission`: 2 hours prior to ICU admission\n",
    "  - `prism_4hr_after_icu_admission`: 4 hours post ICU admission\n",
    "  - `all_icu_stays`: list of all ICU in/out pairs\n",
    "  - `total_icu_stay_minutes`: cumulative ICU duration (excluding negative intervals)\n",
    "\n",
    "This curated ICU cohort is then merged with **hospitalization** and **patient-level** tables to enrich demographic and clinical context.\n"
   ]
  },
  {
   "cell_type": "markdown",
   "id": "9efbb66b",
   "metadata": {
    "papermill": {
     "duration": 0.018309,
     "end_time": "2025-06-04T02:50:39.164075",
     "exception": false,
     "start_time": "2025-06-04T02:50:39.145766",
     "status": "completed"
    },
    "tags": []
   },
   "source": [
    "### Load Data"
   ]
  },
  {
   "cell_type": "code",
   "execution_count": 3,
   "id": "58ee9f09",
   "metadata": {
    "execution": {
     "iopub.execute_input": "2025-06-04T02:50:39.176564Z",
     "iopub.status.busy": "2025-06-04T02:50:39.176564Z",
     "iopub.status.idle": "2025-06-04T02:50:41.587874Z",
     "shell.execute_reply": "2025-06-04T02:50:41.587874Z"
    },
    "papermill": {
     "duration": 2.421506,
     "end_time": "2025-06-04T02:50:41.587874",
     "exception": false,
     "start_time": "2025-06-04T02:50:39.166368",
     "status": "completed"
    },
    "tags": []
   },
   "outputs": [
    {
     "name": "stdout",
     "output_type": "stream",
     "text": [
      "Data loaded successfully from C:/Users/vchaudha/Downloads/rush_parquet_2\\clif_patient.parquet\n"
     ]
    },
    {
     "name": "stdout",
     "output_type": "stream",
     "text": [
      "Data loaded successfully from C:/Users/vchaudha/Downloads/rush_parquet_2\\clif_hospitalization.parquet\n"
     ]
    },
    {
     "name": "stdout",
     "output_type": "stream",
     "text": [
      "Data loaded successfully from C:/Users/vchaudha/Downloads/rush_parquet_2\\clif_adt.parquet\n"
     ]
    }
   ],
   "source": [
    "patient = pyCLIF.load_data('clif_patient')\n",
    "hospitalization = pyCLIF.load_data('clif_hospitalization')\n",
    "adt = pyCLIF.load_data('clif_adt')\n",
    "\n",
    "# ensure id variable is of dtype character\n",
    "hospitalization['hospitalization_id']= hospitalization['hospitalization_id'].astype(str)\n",
    "patient['patient_id']= patient['patient_id'].astype(str)\n",
    "adt['hospitalization_id']= adt['hospitalization_id'].astype(str)"
   ]
  },
  {
   "cell_type": "markdown",
   "id": "232ab13b",
   "metadata": {
    "papermill": {
     "duration": 0.005768,
     "end_time": "2025-06-04T02:50:41.617890",
     "exception": false,
     "start_time": "2025-06-04T02:50:41.612122",
     "status": "completed"
    },
    "tags": []
   },
   "source": [
    "### 🔁 Duplicate Check & 🕒 TimeZone Conversion (QA)\n",
    "\n",
    "- **Duplicate Handling**:  \n",
    "  If duplicates are present, only the **first row** is retained after sorting records by **chronological order (e.g., `in_dttm`)**.  \n",
    "  Please inspect your **CLIF tables** for duplicate entries, particularly in key event logs such as ICU admissions.\n",
    "\n",
    "- **TimeZone Conversion**:  \n",
    "  Ensure all timestamps are consistently converted to the **desired standard timezone** (e.g., UTC or hospital-local time).  \n",
    "  This is critical for temporal alignment across tables and for accurate window-based feature extraction.\n"
   ]
  },
  {
   "cell_type": "code",
   "execution_count": 4,
   "id": "dadec3ce",
   "metadata": {
    "execution": {
     "iopub.execute_input": "2025-06-04T02:50:41.648860Z",
     "iopub.status.busy": "2025-06-04T02:50:41.648860Z",
     "iopub.status.idle": "2025-06-04T02:50:42.311864Z",
     "shell.execute_reply": "2025-06-04T02:50:42.310803Z"
    },
    "papermill": {
     "duration": 0.683613,
     "end_time": "2025-06-04T02:50:42.311864",
     "exception": false,
     "start_time": "2025-06-04T02:50:41.628251",
     "status": "completed"
    },
    "tags": []
   },
   "outputs": [
    {
     "name": "stdout",
     "output_type": "stream",
     "text": [
      "Processing DataFrame: patient\n",
      "No duplicates found based on columns: ['patient_id'].\n",
      "Processing DataFrame: hospitalization\n",
      "No duplicates found based on columns: ['hospitalization_id'].\n"
     ]
    },
    {
     "name": "stdout",
     "output_type": "stream",
     "text": [
      "Processing DataFrame: adt\n",
      "No duplicates found based on columns: ['hospitalization_id', 'hospital_id', 'in_dttm'].\n"
     ]
    }
   ],
   "source": [
    "# check for duplicates\n",
    "# patient table should be unique by patient id\n",
    "patient = pyCLIF.remove_duplicates(patient, ['patient_id'], 'patient')\n",
    "# hospitalization table should be unique by hospitalization id\n",
    "hospitalization = pyCLIF.remove_duplicates(hospitalization, ['hospitalization_id'], 'hospitalization')\n",
    "# adt table should be unique by hospitalization id and in dttm\n",
    "adt = pyCLIF.remove_duplicates(adt, ['hospitalization_id', 'hospital_id', 'in_dttm'], 'adt')"
   ]
  },
  {
   "cell_type": "code",
   "execution_count": 5,
   "id": "4d4d0fab",
   "metadata": {
    "execution": {
     "iopub.execute_input": "2025-06-04T02:50:42.352968Z",
     "iopub.status.busy": "2025-06-04T02:50:42.352968Z",
     "iopub.status.idle": "2025-06-04T02:50:42.410645Z",
     "shell.execute_reply": "2025-06-04T02:50:42.410645Z"
    },
    "papermill": {
     "duration": 0.070913,
     "end_time": "2025-06-04T02:50:42.413684",
     "exception": false,
     "start_time": "2025-06-04T02:50:42.342771",
     "status": "completed"
    },
    "tags": []
   },
   "outputs": [
    {
     "name": "stdout",
     "output_type": "stream",
     "text": [
      "Total Number of unique encounters in the hospitalization table: 227693\n"
     ]
    }
   ],
   "source": [
    "print(f\"Total Number of unique encounters in the hospitalization table: {pyCLIF.count_unique_encounters(hospitalization, 'hospitalization_id')}\")"
   ]
  },
  {
   "cell_type": "code",
   "execution_count": 6,
   "id": "0b65de8f",
   "metadata": {
    "execution": {
     "iopub.execute_input": "2025-06-04T02:50:42.444130Z",
     "iopub.status.busy": "2025-06-04T02:50:42.444130Z",
     "iopub.status.idle": "2025-06-04T02:50:43.368334Z",
     "shell.execute_reply": "2025-06-04T02:50:43.368334Z"
    },
    "papermill": {
     "duration": 0.935939,
     "end_time": "2025-06-04T02:50:43.369903",
     "exception": false,
     "start_time": "2025-06-04T02:50:42.433964",
     "status": "completed"
    },
    "tags": []
   },
   "outputs": [
    {
     "name": "stdout",
     "output_type": "stream",
     "text": [
      "WARNING: death_dttm: Naive datetime, NOT converting. Assuming it's in your LOCAL ZONE. Please check ETL!\n",
      "WARNING: admission_dttm: Naive datetime, NOT converting. Assuming it's in your LOCAL ZONE. Please check ETL!\n",
      "WARNING: discharge_dttm: Naive datetime, NOT converting. Assuming it's in your LOCAL ZONE. Please check ETL!\n"
     ]
    },
    {
     "name": "stdout",
     "output_type": "stream",
     "text": [
      "WARNING: in_dttm: Naive datetime, NOT converting. Assuming it's in your LOCAL ZONE. Please check ETL!\n"
     ]
    },
    {
     "name": "stdout",
     "output_type": "stream",
     "text": [
      "WARNING: out_dttm: Naive datetime, NOT converting. Assuming it's in your LOCAL ZONE. Please check ETL!\n"
     ]
    }
   ],
   "source": [
    "# Standardize all _dttm variables to the same format\n",
    "patient = pyCLIF.convert_datetime_columns_to_site_tz(patient,  pyCLIF.helper['timezone'])\n",
    "hospitalization = pyCLIF.convert_datetime_columns_to_site_tz(hospitalization, pyCLIF.helper['timezone'])\n",
    "adt = pyCLIF.convert_datetime_columns_to_site_tz(adt,  pyCLIF.helper['timezone'])"
   ]
  },
  {
   "cell_type": "markdown",
   "id": "a371b1e9",
   "metadata": {
    "papermill": {
     "duration": 0.018111,
     "end_time": "2025-06-04T02:50:43.411148",
     "exception": false,
     "start_time": "2025-06-04T02:50:43.393037",
     "status": "completed"
    },
    "tags": []
   },
   "source": [
    "### 🧬 Cohort Identification\n",
    "\n",
    "#### ✅ Inclusion Criteria\n",
    "- **Adult hospital admissions**\n",
    "- **Received care in the ICU** during hospitalization\n",
    "- **Completed at least 24 consecutive hours** of ICU stay\n"
   ]
  },
  {
   "cell_type": "code",
   "execution_count": 7,
   "id": "bdcae3fd",
   "metadata": {
    "execution": {
     "iopub.execute_input": "2025-06-04T02:50:43.440193Z",
     "iopub.status.busy": "2025-06-04T02:50:43.440193Z",
     "iopub.status.idle": "2025-06-04T02:50:43.788435Z",
     "shell.execute_reply": "2025-06-04T02:50:43.788435Z"
    },
    "papermill": {
     "duration": 0.369048,
     "end_time": "2025-06-04T02:50:43.793633",
     "exception": false,
     "start_time": "2025-06-04T02:50:43.424585",
     "status": "completed"
    },
    "tags": []
   },
   "outputs": [],
   "source": [
    "icu_adt = adt[adt['location_category'].str.lower()=='icu']\n",
    "\n",
    "# Calculate minutes between timestamps\n",
    "icu_adt['icu_duration_minutes'] = (icu_adt['out_dttm'] - icu_adt['in_dttm']).dt.total_seconds() / 60\n",
    "\n",
    "# icu adt with at least 24 hour stay\n",
    "icu_adt = icu_adt[icu_adt['icu_duration_minutes']>=1440].copy()"
   ]
  },
  {
   "cell_type": "code",
   "execution_count": 8,
   "id": "885dce06",
   "metadata": {
    "execution": {
     "iopub.execute_input": "2025-06-04T02:50:43.836331Z",
     "iopub.status.busy": "2025-06-04T02:50:43.836331Z",
     "iopub.status.idle": "2025-06-04T02:50:51.775564Z",
     "shell.execute_reply": "2025-06-04T02:50:51.774519Z"
    },
    "papermill": {
     "duration": 7.963422,
     "end_time": "2025-06-04T02:50:51.775564",
     "exception": false,
     "start_time": "2025-06-04T02:50:43.812142",
     "status": "completed"
    },
    "tags": []
   },
   "outputs": [],
   "source": [
    "# Get all ICU stays as a list of (in_dttm, out_dttm) tuples per hospitalization_id\n",
    "icu_stays_grouped = (\n",
    "    icu_adt\n",
    "    .sort_values('in_dttm')\n",
    "    .groupby('hospitalization_id')\n",
    "    .apply(lambda df: list(zip(df['in_dttm'], df['out_dttm'])))\n",
    "    .reset_index()\n",
    "    .rename(columns={0: 'all_icu_stays'})\n",
    ")\n",
    "\n",
    "# Get the first ICU admission per hospitalization_id\n",
    "first_24hr_icu_per_hosp = (\n",
    "    icu_adt\n",
    "    .sort_values('in_dttm')\n",
    "    .groupby('hospitalization_id')\n",
    "    .first()\n",
    "    .reset_index()\n",
    ")\n",
    "\n",
    "# Add relevant time-based columns\n",
    "first_24hr_icu_per_hosp['24hr_timestamp'] = first_24hr_icu_per_hosp['in_dttm'] + timedelta(hours=24)\n",
    "first_24hr_icu_per_hosp['prism_2hr_before_icu_admission'] = first_24hr_icu_per_hosp['in_dttm'] - timedelta(hours=2)\n",
    "first_24hr_icu_per_hosp['prism_4hr_after_icu_admission'] = first_24hr_icu_per_hosp['in_dttm'] + timedelta(hours=4)\n",
    "\n",
    "# Merge the all_icu_stays column into the same table\n",
    "first_24hr_icu_per_hosp = pd.merge(\n",
    "    first_24hr_icu_per_hosp,\n",
    "    icu_stays_grouped,\n",
    "    how='left',\n",
    "    on='hospitalization_id'\n",
    ")\n"
   ]
  },
  {
   "cell_type": "code",
   "execution_count": 9,
   "id": "4a116157",
   "metadata": {
    "execution": {
     "iopub.execute_input": "2025-06-04T02:50:51.799488Z",
     "iopub.status.busy": "2025-06-04T02:50:51.799315Z",
     "iopub.status.idle": "2025-06-04T02:50:52.199693Z",
     "shell.execute_reply": "2025-06-04T02:50:52.199693Z"
    },
    "papermill": {
     "duration": 0.419519,
     "end_time": "2025-06-04T02:50:52.205261",
     "exception": false,
     "start_time": "2025-06-04T02:50:51.785742",
     "status": "completed"
    },
    "tags": []
   },
   "outputs": [],
   "source": [
    "# icu_los\n",
    "def compute_total_icu_minutes(stays):\n",
    "    if isinstance(stays, list) and stays:\n",
    "        return sum(\n",
    "            (out - inp).total_seconds() / 60\n",
    "            for inp, out in stays\n",
    "            if (out - inp).total_seconds() > 0\n",
    "        )\n",
    "    return 0\n",
    "\n",
    "\n",
    "first_24hr_icu_per_hosp['total_icu_stay_minutes'] = first_24hr_icu_per_hosp['all_icu_stays'].apply(compute_total_icu_minutes)"
   ]
  },
  {
   "cell_type": "code",
   "execution_count": 10,
   "id": "8b2d35c4",
   "metadata": {
    "execution": {
     "iopub.execute_input": "2025-06-04T02:50:52.239283Z",
     "iopub.status.busy": "2025-06-04T02:50:52.239283Z",
     "iopub.status.idle": "2025-06-04T02:50:52.774379Z",
     "shell.execute_reply": "2025-06-04T02:50:52.773333Z"
    },
    "papermill": {
     "duration": 0.548505,
     "end_time": "2025-06-04T02:50:52.774379",
     "exception": false,
     "start_time": "2025-06-04T02:50:52.225874",
     "status": "completed"
    },
    "tags": []
   },
   "outputs": [],
   "source": [
    "# First inner join with hospitalization on 'hospitalization_id'\n",
    "icu_with_hosp = pd.merge(\n",
    "    first_24hr_icu_per_hosp,\n",
    "    hospitalization,\n",
    "    how='inner',\n",
    "    on='hospitalization_id'\n",
    ")\n",
    "\n",
    "# Then inner join with patient on 'patient_id'\n",
    "icu_with_hosp_and_patient = pd.merge(\n",
    "    icu_with_hosp,\n",
    "    patient,\n",
    "    how='inner',\n",
    "    on='patient_id'\n",
    ")\n",
    "\n",
    "icu_with_hosp_and_patient['hosp_los'] = (\n",
    "    icu_with_hosp_and_patient['discharge_dttm'] - icu_with_hosp_and_patient['admission_dttm']\n",
    ").dt.total_seconds() / 60  # Optional: divide by 60 to convert to minutes\n"
   ]
  },
  {
   "cell_type": "code",
   "execution_count": 11,
   "id": "0383a180",
   "metadata": {
    "execution": {
     "iopub.execute_input": "2025-06-04T02:50:52.805490Z",
     "iopub.status.busy": "2025-06-04T02:50:52.805490Z",
     "iopub.status.idle": "2025-06-04T02:50:52.848004Z",
     "shell.execute_reply": "2025-06-04T02:50:52.848004Z"
    },
    "papermill": {
     "duration": 0.048183,
     "end_time": "2025-06-04T02:50:52.848004",
     "exception": false,
     "start_time": "2025-06-04T02:50:52.799821",
     "status": "completed"
    },
    "tags": []
   },
   "outputs": [],
   "source": [
    "cohort = icu_with_hosp_and_patient[['hospitalization_id','in_dttm',\n",
    "                                    'out_dttm', 'location_category', 'hospital_id',\n",
    "                                    'icu_duration_minutes', '24hr_timestamp',\n",
    "                                    'prism_2hr_before_icu_admission', 'prism_4hr_after_icu_admission', 'admission_dttm', 'discharge_dttm',\n",
    "                                    'all_icu_stays','total_icu_stay_minutes','hosp_los','age_at_admission','admission_type_category', \n",
    "                                    'discharge_category','sex_category',  'race_category', 'ethnicity_category']]"
   ]
  },
  {
   "cell_type": "markdown",
   "id": "317f78eb",
   "metadata": {
    "papermill": {
     "duration": 0.005571,
     "end_time": "2025-06-04T02:50:52.867697",
     "exception": false,
     "start_time": "2025-06-04T02:50:52.862126",
     "status": "completed"
    },
    "tags": []
   },
   "source": [
    "### 🗺️ Map to C2D2 Standard Values\n",
    "\n",
    "This step ensures alignment with the **C2D2 data harmonization framework**. All relevant fields in the dataset are mapped to their corresponding **C2D2 standard values**, including:\n",
    "\n",
    "- **Admission and discharge types**\n",
    "- **ICU location categories**\n",
    "- **Demographics** (sex, race, ethnicity)\n",
    "- **Hospital and unit identifiers**\n",
    "- **Temporal markers** (e.g., admission timestamps, ICU transitions)\n",
    "\n",
    "Mappings should follow the **latest C2D2 dictionary** and be version-controlled to maintain auditability and reproducibility.\n"
   ]
  },
  {
   "cell_type": "code",
   "execution_count": null,
   "id": "14499ccc",
   "metadata": {
    "execution": {
     "iopub.execute_input": "2025-06-04T02:50:52.888291Z",
     "iopub.status.busy": "2025-06-04T02:50:52.888291Z",
     "iopub.status.idle": "2025-06-04T02:50:52.919019Z",
     "shell.execute_reply": "2025-06-04T02:50:52.919019Z"
    },
    "papermill": {
     "duration": 0.040931,
     "end_time": "2025-06-04T02:50:52.919019",
     "exception": false,
     "start_time": "2025-06-04T02:50:52.878088",
     "status": "completed"
    },
    "tags": []
   },
   "outputs": [],
   "source": [
    "cohort['sex_category'].value_counts()"
   ]
  },
  {
   "cell_type": "code",
   "execution_count": null,
   "id": "6b5df1bb",
   "metadata": {
    "execution": {
     "iopub.execute_input": "2025-06-04T02:50:52.949556Z",
     "iopub.status.busy": "2025-06-04T02:50:52.947442Z",
     "iopub.status.idle": "2025-06-04T02:50:52.964179Z",
     "shell.execute_reply": "2025-06-04T02:50:52.964179Z"
    },
    "papermill": {
     "duration": 0.027976,
     "end_time": "2025-06-04T02:50:52.967149",
     "exception": false,
     "start_time": "2025-06-04T02:50:52.939173",
     "status": "completed"
    },
    "tags": []
   },
   "outputs": [],
   "source": [
    "cohort['race_category'].value_counts()"
   ]
  },
  {
   "cell_type": "code",
   "execution_count": null,
   "id": "36f7aab4",
   "metadata": {
    "execution": {
     "iopub.execute_input": "2025-06-04T02:50:52.991400Z",
     "iopub.status.busy": "2025-06-04T02:50:52.991400Z",
     "iopub.status.idle": "2025-06-04T02:50:53.018087Z",
     "shell.execute_reply": "2025-06-04T02:50:53.018030Z"
    },
    "papermill": {
     "duration": 0.037153,
     "end_time": "2025-06-04T02:50:53.020232",
     "exception": false,
     "start_time": "2025-06-04T02:50:52.983079",
     "status": "completed"
    },
    "tags": []
   },
   "outputs": [],
   "source": [
    "ethnicity_mapping = {\n",
    "    'Hispanic': 'Hispanic or Latino',\n",
    "    'Non-Hispanic': 'Non-Hispanic or non-Latino',\n",
    "    'Unknown': 'Unknown'\n",
    "}\n",
    "\n",
    "cohort['ethnicity_category'] = cohort['ethnicity_category'].map(ethnicity_mapping)\n",
    "\n",
    "\n",
    "cohort['ethnicity_category'].value_counts()"
   ]
  },
  {
   "cell_type": "code",
   "execution_count": null,
   "id": "4340821b",
   "metadata": {
    "execution": {
     "iopub.execute_input": "2025-06-04T02:50:53.040715Z",
     "iopub.status.busy": "2025-06-04T02:50:53.032650Z",
     "iopub.status.idle": "2025-06-04T02:50:53.063943Z",
     "shell.execute_reply": "2025-06-04T02:50:53.063943Z"
    },
    "papermill": {
     "duration": 0.041626,
     "end_time": "2025-06-04T02:50:53.063943",
     "exception": false,
     "start_time": "2025-06-04T02:50:53.022317",
     "status": "completed"
    },
    "tags": []
   },
   "outputs": [],
   "source": [
    "disposition_mapping = {\n",
    "    'Home': 'Home',\n",
    "    'Against Medical Advice (AMA)': 'Discharged to Other Institution',\n",
    "    'Hospice': 'Discharged to Other Institution',\n",
    "    'Skilled Nursing Facility (SNF)': 'Discharged to Other Institution',\n",
    "    'Acute Inpatient Rehab Facility': 'Discharged to Other Institution',\n",
    "    'Expired': 'Deceased',\n",
    "    'Long Term Care Hospital (LTACH)': 'Discharged to Other Institution',\n",
    "    'Acute Care Hospital': 'Discharged to Other Institution',\n",
    "    'Group Home': 'Discharged to Other Institution',\n",
    "    'Psychiatric Hospital': 'Discharged to Other Institution',\n",
    "    'Jail': 'Discharged to Other Institution',\n",
    "    'Missing': 'Discharged to Other Institution',\n",
    "    'Other': 'Discharged to Other Institution',\n",
    "    'Chemical Dependency': 'Discharged to Other Institution',\n",
    "    'Assisted Living': 'Discharged to Other Institution',\n",
    "    'Still Admitted': 'Discharged to Other Institution'\n",
    "}\n",
    "cohort['discharge_category'] = cohort['discharge_category'].map(disposition_mapping)\n",
    "cohort['discharge_category'].value_counts()\n"
   ]
  },
  {
   "cell_type": "code",
   "execution_count": 16,
   "id": "c6c44598",
   "metadata": {
    "execution": {
     "iopub.execute_input": "2025-06-04T02:50:53.084082Z",
     "iopub.status.busy": "2025-06-04T02:50:53.084082Z",
     "iopub.status.idle": "2025-06-04T02:50:53.098130Z",
     "shell.execute_reply": "2025-06-04T02:50:53.098130Z"
    },
    "papermill": {
     "duration": 0.02423,
     "end_time": "2025-06-04T02:50:53.098130",
     "exception": false,
     "start_time": "2025-06-04T02:50:53.073900",
     "status": "completed"
    },
    "tags": []
   },
   "outputs": [
    {
     "data": {
      "text/plain": [
       "Index(['hospitalization_id', 'in_dttm', 'out_dttm', 'location_category',\n",
       "       'hospital_id', 'icu_duration_minutes', '24hr_timestamp',\n",
       "       'prism_2hr_before_icu_admission', 'prism_4hr_after_icu_admission',\n",
       "       'admission_dttm', 'discharge_dttm', 'all_icu_stays',\n",
       "       'total_icu_stay_minutes', 'hosp_los', 'age_at_admission',\n",
       "       'admission_type_category', 'discharge_category', 'sex_category',\n",
       "       'race_category', 'ethnicity_category'],\n",
       "      dtype='object')"
      ]
     },
     "execution_count": 16,
     "metadata": {},
     "output_type": "execute_result"
    }
   ],
   "source": [
    "cohort.columns"
   ]
  },
  {
   "cell_type": "code",
   "execution_count": 17,
   "id": "8e79bc8e",
   "metadata": {
    "execution": {
     "iopub.execute_input": "2025-06-04T02:50:53.115355Z",
     "iopub.status.busy": "2025-06-04T02:50:53.115355Z",
     "iopub.status.idle": "2025-06-04T02:50:53.174847Z",
     "shell.execute_reply": "2025-06-04T02:50:53.174847Z"
    },
    "papermill": {
     "duration": 0.07204,
     "end_time": "2025-06-04T02:50:53.176898",
     "exception": false,
     "start_time": "2025-06-04T02:50:53.104858",
     "status": "completed"
    },
    "tags": []
   },
   "outputs": [],
   "source": [
    "rename_columns = {\n",
    "    'hospitalization_id': 'hospitalization_id',\n",
    "    'in_dttm': '24hr_icu_in_dttm',\n",
    "    'out_dttm': 'icu_out_dttm',\n",
    "    'location_category': 'location_category',\n",
    "    'hospital_id': 'hospital_id',\n",
    "    'icu_duration_minutes': 'icu_duration_minutes',\n",
    "    '24hr_timestamp': '24hr_icu_out_dttm',\n",
    "    'prism_2hr_before_icu_admission': 'prism_2hr_before_icu_admission',\n",
    "    'prism_4hr_after_icu_admission': 'prism_4hr_after_icu_admission',\n",
    "    'all_icu_stays': 'all_icu_stays',\n",
    "    'total_icu_stay_minutes': 'icu_los',\n",
    "    'hosp_los': 'hosp_los',\n",
    "    'age_at_admission': 'icu_admit_age',\n",
    "    'admission_type_category': 'hosp_admit_source',\n",
    "    'discharge_category': 'hosp_disch_disp',\n",
    "    'sex_category': 'sex',\n",
    "    'race_category': 'race',\n",
    "    'ethnicity_category': 'ethnicity'\n",
    "}\n",
    "cohort = cohort.rename(columns=rename_columns)\n"
   ]
  },
  {
   "cell_type": "code",
   "execution_count": 18,
   "id": "9191be30",
   "metadata": {
    "execution": {
     "iopub.execute_input": "2025-06-04T02:50:53.197400Z",
     "iopub.status.busy": "2025-06-04T02:50:53.197400Z",
     "iopub.status.idle": "2025-06-04T02:50:53.805535Z",
     "shell.execute_reply": "2025-06-04T02:50:53.805535Z"
    },
    "papermill": {
     "duration": 0.618537,
     "end_time": "2025-06-04T02:50:53.805535",
     "exception": false,
     "start_time": "2025-06-04T02:50:53.186998",
     "status": "completed"
    },
    "tags": []
   },
   "outputs": [],
   "source": [
    "cohort.to_parquet('../output/final/c2d2_cohort.parquet',index=False)"
   ]
  }
 ],
 "metadata": {
  "kernelspec": {
   "display_name": ".clif_c2d2",
   "language": "python",
   "name": "python3"
  },
  "language_info": {
   "codemirror_mode": {
    "name": "ipython",
    "version": 3
   },
   "file_extension": ".py",
   "mimetype": "text/x-python",
   "name": "python",
   "nbconvert_exporter": "python",
   "pygments_lexer": "ipython3",
   "version": "3.11.5"
  },
  "papermill": {
   "default_parameters": {},
   "duration": 21.462171,
   "end_time": "2025-06-04T02:50:54.719310",
   "environment_variables": {},
   "exception": null,
   "input_path": "01_c2d2_cohort_built.ipynb",
   "output_path": "01_c2d2_cohort_built.ipynb",
   "parameters": {},
   "start_time": "2025-06-04T02:50:33.257139",
   "version": "2.6.0"
  }
 },
 "nbformat": 4,
 "nbformat_minor": 5
}
