{
 "cells": [
  {
   "cell_type": "code",
   "execution_count": 1,
   "id": "ff2fb6a8",
   "metadata": {
    "execution": {
     "iopub.execute_input": "2025-06-04T02:51:40.717077Z",
     "iopub.status.busy": "2025-06-04T02:51:40.709022Z",
     "iopub.status.idle": "2025-06-04T02:51:42.346993Z",
     "shell.execute_reply": "2025-06-04T02:51:42.346993Z"
    },
    "papermill": {
     "duration": 1.650184,
     "end_time": "2025-06-04T02:51:42.346993",
     "exception": false,
     "start_time": "2025-06-04T02:51:40.696809",
     "status": "completed"
    },
    "tags": []
   },
   "outputs": [
    {
     "name": "stdout",
     "output_type": "stream",
     "text": [
      "✅ Loaded configuration from config.json\n"
     ]
    }
   ],
   "source": [
    "import pandas as pd\n",
    "import numpy as np\n",
    "import matplotlib.pyplot as plt\n",
    "import os\n",
    "import json\n",
    "import pyCLIF\n",
    "from datetime import timedelta\n",
    "import pyarrow\n",
    "import waterfall\n",
    "import warnings\n",
    "warnings.filterwarnings('ignore')"
   ]
  },
  {
   "cell_type": "code",
   "execution_count": 2,
   "id": "0758ef6e",
   "metadata": {
    "execution": {
     "iopub.execute_input": "2025-06-04T02:51:42.383088Z",
     "iopub.status.busy": "2025-06-04T02:51:42.374737Z",
     "iopub.status.idle": "2025-06-04T02:51:43.187627Z",
     "shell.execute_reply": "2025-06-04T02:51:43.185494Z"
    },
    "papermill": {
     "duration": 0.823138,
     "end_time": "2025-06-04T02:51:43.187627",
     "exception": false,
     "start_time": "2025-06-04T02:51:42.364489",
     "status": "completed"
    },
    "tags": []
   },
   "outputs": [],
   "source": [
    "clif_c2d2_mapping = pd.read_excel('../mapping/ccm-53-e1045-s002.xlsx')\n",
    "cohort = pd.read_parquet('../output/final/c2d2_cohort.parquet')"
   ]
  },
  {
   "cell_type": "markdown",
   "id": "74db8fb2",
   "metadata": {
    "papermill": {
     "duration": 0.011862,
     "end_time": "2025-06-04T02:51:43.218112",
     "exception": false,
     "start_time": "2025-06-04T02:51:43.206250",
     "status": "completed"
    },
    "tags": []
   },
   "source": [
    "## 🗺️ CLIF Meds to C2D2 Mapping\n"
   ]
  },
  {
   "cell_type": "code",
   "execution_count": 3,
   "id": "11bf1b72",
   "metadata": {
    "execution": {
     "iopub.execute_input": "2025-06-04T02:51:43.228499Z",
     "iopub.status.busy": "2025-06-04T02:51:43.228499Z",
     "iopub.status.idle": "2025-06-04T02:51:43.275031Z",
     "shell.execute_reply": "2025-06-04T02:51:43.275031Z"
    },
    "papermill": {
     "duration": 0.051263,
     "end_time": "2025-06-04T02:51:43.277658",
     "exception": false,
     "start_time": "2025-06-04T02:51:43.226395",
     "status": "completed"
    },
    "tags": []
   },
   "outputs": [
    {
     "data": {
      "text/html": [
       "<div>\n",
       "<style scoped>\n",
       "    .dataframe tbody tr th:only-of-type {\n",
       "        vertical-align: middle;\n",
       "    }\n",
       "\n",
       "    .dataframe tbody tr th {\n",
       "        vertical-align: top;\n",
       "    }\n",
       "\n",
       "    .dataframe thead th {\n",
       "        text-align: right;\n",
       "    }\n",
       "</style>\n",
       "<table border=\"1\" class=\"dataframe\">\n",
       "  <thead>\n",
       "    <tr style=\"text-align: right;\">\n",
       "      <th></th>\n",
       "      <th>Domain</th>\n",
       "      <th>Sub-domain</th>\n",
       "      <th>Concept</th>\n",
       "      <th>Common Data Element</th>\n",
       "      <th>CLIF Table</th>\n",
       "      <th>CLIF mCIDE Crosswalk column</th>\n",
       "      <th>CLIF version</th>\n",
       "      <th>mCIDE</th>\n",
       "      <th>Definition</th>\n",
       "      <th>Coding</th>\n",
       "      <th>...</th>\n",
       "      <th>SOFA</th>\n",
       "      <th>PSOFA</th>\n",
       "      <th>nSOFA</th>\n",
       "      <th>PRISM III</th>\n",
       "      <th>PIM3</th>\n",
       "      <th>Charlson CI</th>\n",
       "      <th>MRC-ICU</th>\n",
       "      <th>SOI count</th>\n",
       "      <th>No SOI score</th>\n",
       "      <th>Potential EHR Datasource</th>\n",
       "    </tr>\n",
       "  </thead>\n",
       "  <tbody>\n",
       "    <tr>\n",
       "      <th>194</th>\n",
       "      <td>Medications</td>\n",
       "      <td>Vasopressor/Inotropes</td>\n",
       "      <td>Dopamine - Max rate</td>\n",
       "      <td>icu_24hr_infusion_dopamine_max</td>\n",
       "      <td>medication admin continuous</td>\n",
       "      <td>med_category</td>\n",
       "      <td>CLIF-2.1.0 (Live)</td>\n",
       "      <td>dopamine</td>\n",
       "      <td>Dopamine maximum infusion rate during first 24...</td>\n",
       "      <td>Units: mcg/kg/min</td>\n",
       "      <td>...</td>\n",
       "      <td>1.0</td>\n",
       "      <td>1.0</td>\n",
       "      <td>1.0</td>\n",
       "      <td>NaN</td>\n",
       "      <td>NaN</td>\n",
       "      <td>NaN</td>\n",
       "      <td>NaN</td>\n",
       "      <td>3</td>\n",
       "      <td>NaN</td>\n",
       "      <td>medication administration record, flowsheet</td>\n",
       "    </tr>\n",
       "    <tr>\n",
       "      <th>195</th>\n",
       "      <td>Medications</td>\n",
       "      <td>Vasopressor/Inotropes</td>\n",
       "      <td>Dobutamine - Max rate</td>\n",
       "      <td>icu_24hr_infusion_dobutamine_max</td>\n",
       "      <td>medication admin continuous</td>\n",
       "      <td>med_category</td>\n",
       "      <td>CLIF-2.1.0 (Live)</td>\n",
       "      <td>dobutamine</td>\n",
       "      <td>Dobutamine maximum infusion rate during first ...</td>\n",
       "      <td>Units: mcg/kg/min</td>\n",
       "      <td>...</td>\n",
       "      <td>1.0</td>\n",
       "      <td>1.0</td>\n",
       "      <td>1.0</td>\n",
       "      <td>NaN</td>\n",
       "      <td>NaN</td>\n",
       "      <td>NaN</td>\n",
       "      <td>NaN</td>\n",
       "      <td>3</td>\n",
       "      <td>NaN</td>\n",
       "      <td>medication administration record, flowsheet</td>\n",
       "    </tr>\n",
       "    <tr>\n",
       "      <th>196</th>\n",
       "      <td>Medications</td>\n",
       "      <td>Vasopressor/Inotropes</td>\n",
       "      <td>Norepinephrine - Max rate</td>\n",
       "      <td>icu_24hr_infusion_norepinephrine_max</td>\n",
       "      <td>medication admin continuous</td>\n",
       "      <td>med_category</td>\n",
       "      <td>CLIF-2.1.0 (Live)</td>\n",
       "      <td>norepinephrine</td>\n",
       "      <td>Norepinephrine maximum infusion rate during fi...</td>\n",
       "      <td>Units: mcg/kg/min</td>\n",
       "      <td>...</td>\n",
       "      <td>1.0</td>\n",
       "      <td>1.0</td>\n",
       "      <td>1.0</td>\n",
       "      <td>NaN</td>\n",
       "      <td>NaN</td>\n",
       "      <td>NaN</td>\n",
       "      <td>NaN</td>\n",
       "      <td>3</td>\n",
       "      <td>NaN</td>\n",
       "      <td>medication administration record, flowsheet</td>\n",
       "    </tr>\n",
       "    <tr>\n",
       "      <th>197</th>\n",
       "      <td>Medications</td>\n",
       "      <td>Vasopressor/Inotropes</td>\n",
       "      <td>Epinephrine - Max rate</td>\n",
       "      <td>icu_24hr_infusion_epinephrine_max</td>\n",
       "      <td>medication admin continuous</td>\n",
       "      <td>med_category</td>\n",
       "      <td>CLIF-2.1.0 (Live)</td>\n",
       "      <td>epinephrine</td>\n",
       "      <td>Epinephrine maximum infusion rate during first...</td>\n",
       "      <td>Units: mcg/kg/min</td>\n",
       "      <td>...</td>\n",
       "      <td>1.0</td>\n",
       "      <td>1.0</td>\n",
       "      <td>1.0</td>\n",
       "      <td>NaN</td>\n",
       "      <td>NaN</td>\n",
       "      <td>NaN</td>\n",
       "      <td>NaN</td>\n",
       "      <td>3</td>\n",
       "      <td>NaN</td>\n",
       "      <td>medication administration record, flowsheet</td>\n",
       "    </tr>\n",
       "  </tbody>\n",
       "</table>\n",
       "<p>4 rows × 24 columns</p>\n",
       "</div>"
      ],
      "text/plain": [
       "          Domain             Sub-domain                    Concept  \\\n",
       "194  Medications  Vasopressor/Inotropes        Dopamine - Max rate   \n",
       "195  Medications  Vasopressor/Inotropes      Dobutamine - Max rate   \n",
       "196  Medications  Vasopressor/Inotropes  Norepinephrine - Max rate   \n",
       "197  Medications  Vasopressor/Inotropes     Epinephrine - Max rate   \n",
       "\n",
       "                      Common Data Element                   CLIF Table  \\\n",
       "194        icu_24hr_infusion_dopamine_max  medication admin continuous   \n",
       "195      icu_24hr_infusion_dobutamine_max  medication admin continuous   \n",
       "196  icu_24hr_infusion_norepinephrine_max  medication admin continuous   \n",
       "197     icu_24hr_infusion_epinephrine_max  medication admin continuous   \n",
       "\n",
       "    CLIF mCIDE Crosswalk column       CLIF version           mCIDE  \\\n",
       "194                med_category  CLIF-2.1.0 (Live)        dopamine   \n",
       "195                med_category  CLIF-2.1.0 (Live)      dobutamine   \n",
       "196                med_category  CLIF-2.1.0 (Live)  norepinephrine   \n",
       "197                med_category  CLIF-2.1.0 (Live)     epinephrine   \n",
       "\n",
       "                                            Definition             Coding  \\\n",
       "194  Dopamine maximum infusion rate during first 24...  Units: mcg/kg/min   \n",
       "195  Dobutamine maximum infusion rate during first ...  Units: mcg/kg/min   \n",
       "196  Norepinephrine maximum infusion rate during fi...  Units: mcg/kg/min   \n",
       "197  Epinephrine maximum infusion rate during first...  Units: mcg/kg/min   \n",
       "\n",
       "     ... SOFA PSOFA  nSOFA PRISM III  PIM3  Charlson CI  MRC-ICU  SOI count  \\\n",
       "194  ...  1.0   1.0    1.0       NaN   NaN          NaN      NaN          3   \n",
       "195  ...  1.0   1.0    1.0       NaN   NaN          NaN      NaN          3   \n",
       "196  ...  1.0   1.0    1.0       NaN   NaN          NaN      NaN          3   \n",
       "197  ...  1.0   1.0    1.0       NaN   NaN          NaN      NaN          3   \n",
       "\n",
       "     No SOI score                     Potential EHR Datasource  \n",
       "194           NaN  medication administration record, flowsheet  \n",
       "195           NaN  medication administration record, flowsheet  \n",
       "196           NaN  medication administration record, flowsheet  \n",
       "197           NaN  medication administration record, flowsheet  \n",
       "\n",
       "[4 rows x 24 columns]"
      ]
     },
     "execution_count": 3,
     "metadata": {},
     "output_type": "execute_result"
    }
   ],
   "source": [
    "mapper = clif_c2d2_mapping[(clif_c2d2_mapping['Domain']=='Medications') & (clif_c2d2_mapping['Sub-domain']=='Vasopressor/Inotropes')]\n",
    "mapper"
   ]
  },
  {
   "cell_type": "code",
   "execution_count": 4,
   "id": "8b8585a8",
   "metadata": {
    "execution": {
     "iopub.execute_input": "2025-06-04T02:51:43.299903Z",
     "iopub.status.busy": "2025-06-04T02:51:43.298319Z",
     "iopub.status.idle": "2025-06-04T02:51:45.095723Z",
     "shell.execute_reply": "2025-06-04T02:51:45.095723Z"
    },
    "papermill": {
     "duration": 1.807623,
     "end_time": "2025-06-04T02:51:45.095723",
     "exception": false,
     "start_time": "2025-06-04T02:51:43.288100",
     "status": "completed"
    },
    "tags": []
   },
   "outputs": [
    {
     "name": "stdout",
     "output_type": "stream",
     "text": [
      "Data loaded successfully from C:/Users/vchaudha/Downloads/rush_parquet_2\\clif_medication_admin_continuous.parquet\n"
     ]
    },
    {
     "name": "stdout",
     "output_type": "stream",
     "text": [
      "WARNING: admin_dttm: Naive datetime, NOT converting. Assuming it's in your LOCAL ZONE. Please check ETL!\n"
     ]
    }
   ],
   "source": [
    "meds_required_columns = [\n",
    "    'hospitalization_id',\n",
    "    'admin_dttm',\n",
    "    'med_name',\n",
    "    'med_category',\n",
    "    'med_dose',\n",
    "    'med_dose_unit'\n",
    "]\n",
    "meds_of_interest = [\n",
    "    'norepinephrine'\n",
    "]\n",
    "\n",
    "meds_filters = {\n",
    "    'hospitalization_id': cohort['hospitalization_id'].unique().tolist(),\n",
    "    'med_category': meds_of_interest\n",
    "}\n",
    "meds = pyCLIF.load_data('clif_medication_admin_continuous', columns=meds_required_columns, filters=meds_filters)\n",
    "\n",
    "meds['med_dose_unit'] = meds['med_dose_unit'].str.lower()\n",
    "meds = pyCLIF.convert_datetime_columns_to_site_tz(meds,  pyCLIF.helper['timezone'])\n",
    "meds['med_dose'] = pd.to_numeric(meds['med_dose'], errors='coerce')"
   ]
  },
  {
   "cell_type": "code",
   "execution_count": 5,
   "id": "1e48aae5",
   "metadata": {
    "execution": {
     "iopub.execute_input": "2025-06-04T02:51:45.133682Z",
     "iopub.status.busy": "2025-06-04T02:51:45.131551Z",
     "iopub.status.idle": "2025-06-04T02:51:49.947116Z",
     "shell.execute_reply": "2025-06-04T02:51:49.947116Z"
    },
    "papermill": {
     "duration": 4.839661,
     "end_time": "2025-06-04T02:51:49.952805",
     "exception": false,
     "start_time": "2025-06-04T02:51:45.113144",
     "status": "completed"
    },
    "tags": []
   },
   "outputs": [
    {
     "data": {
      "application/vnd.jupyter.widget-view+json": {
       "model_id": "c56e78a9fd5a44e3bde744efa0f16355",
       "version_major": 2,
       "version_minor": 0
      },
      "text/plain": [
       "FloatProgress(value=0.0, layout=Layout(width='auto'), style=ProgressStyle(bar_color='black'))"
      ]
     },
     "metadata": {},
     "output_type": "display_data"
    },
    {
     "name": "stdout",
     "output_type": "stream",
     "text": [
      "Data loaded successfully from C:/Users/vchaudha/Downloads/rush_parquet_2\\clif_vitals.parquet\n",
      "WARNING: recorded_dttm: Naive datetime, NOT converting. Assuming it's in your LOCAL ZONE. Please check ETL!\n"
     ]
    }
   ],
   "source": [
    "vitals_required_columns = [\n",
    "    'hospitalization_id',\n",
    "    'recorded_dttm',\n",
    "    'vital_category',\n",
    "    'vital_value'\n",
    "]\n",
    "\n",
    "vitals_of_interest = ['weight_kg'] \n",
    "vitals_cohort = pyCLIF.load_data('clif_vitals',\n",
    "    columns=vitals_required_columns,\n",
    "    filters={'hospitalization_id': cohort['hospitalization_id'].unique().tolist(), \n",
    "             'vital_category': vitals_of_interest}\n",
    ")\n",
    "vitals_cohort = pyCLIF.convert_datetime_columns_to_site_tz(vitals_cohort, pyCLIF.helper['timezone'])\n",
    "\n",
    "# Sort by hospitalization_id and recorded_dttm\n",
    "vitals_cohort = vitals_cohort.sort_values(by=['hospitalization_id', 'recorded_dttm'])\n",
    "\n",
    "# Drop null vital_value, then take first per group\n",
    "weights = vitals_cohort[vitals_cohort['vital_value'].notnull()] \\\n",
    "    .groupby('hospitalization_id', as_index=False) \\\n",
    "    .first()"
   ]
  },
  {
   "cell_type": "code",
   "execution_count": 6,
   "id": "899e4f9d",
   "metadata": {
    "execution": {
     "iopub.execute_input": "2025-06-04T02:51:49.987944Z",
     "iopub.status.busy": "2025-06-04T02:51:49.987944Z",
     "iopub.status.idle": "2025-06-04T02:51:51.148356Z",
     "shell.execute_reply": "2025-06-04T02:51:51.146226Z"
    },
    "papermill": {
     "duration": 1.174842,
     "end_time": "2025-06-04T02:51:51.148356",
     "exception": false,
     "start_time": "2025-06-04T02:51:49.973514",
     "status": "completed"
    },
    "tags": []
   },
   "outputs": [],
   "source": [
    "# Select relevant columns and drop duplicates\n",
    "cohort_trimmed = cohort[['hospitalization_id', '24hr_icu_in_dttm', '24hr_icu_out_dttm']].drop_duplicates()\n",
    "\n",
    "# Perform inner join on 'hospitalization_id'\n",
    "meds_joined_df = pd.merge(cohort_trimmed, meds, on='hospitalization_id', how='inner')"
   ]
  },
  {
   "cell_type": "code",
   "execution_count": 7,
   "id": "0b5f9978",
   "metadata": {
    "execution": {
     "iopub.execute_input": "2025-06-04T02:51:51.187573Z",
     "iopub.status.busy": "2025-06-04T02:51:51.179290Z",
     "iopub.status.idle": "2025-06-04T02:51:56.206461Z",
     "shell.execute_reply": "2025-06-04T02:51:56.206461Z"
    },
    "papermill": {
     "duration": 5.039607,
     "end_time": "2025-06-04T02:51:56.208566",
     "exception": false,
     "start_time": "2025-06-04T02:51:51.168959",
     "status": "completed"
    },
    "tags": []
   },
   "outputs": [],
   "source": [
    "# Filter rows where recorded_dttm is within the ICU 24hr window\n",
    "meds_filtered_df = meds_joined_df[\n",
    "    (meds_joined_df['admin_dttm'] >= meds_joined_df['24hr_icu_in_dttm']) &\n",
    "    (meds_joined_df['admin_dttm'] <= meds_joined_df['24hr_icu_out_dttm'])\n",
    "]\n",
    "\n",
    "# join weight for unit conversion of meds\n",
    "meds_weight_filtered_df = meds_filtered_df.merge(\n",
    "    weights,\n",
    "    on='hospitalization_id',\n",
    "    how='left',\n",
    "    suffixes=('', '_weight')  # Optional: helps avoid column name clashes\n",
    ")\n",
    "\n",
    "meds_weight_filtered_df['vital_value'].fillna(60, inplace=True)\n",
    "\n",
    "# Only convert if med_dose_unit is 'mcg/min' and weight is available\n",
    "meds_weight_filtered_df['dose_mcg_per_kg_min'] = meds_weight_filtered_df.apply(\n",
    "    lambda row: row['med_dose'] / row['vital_value']\n",
    "    if row['med_dose_unit'] == 'mcg/min' and pd.notnull(row['vital_value']) and pd.notnull(row['med_dose'])\n",
    "    else row['med_dose'],\n",
    "    axis=1\n",
    ")"
   ]
  },
  {
   "cell_type": "code",
   "execution_count": 8,
   "id": "13cefe19",
   "metadata": {
    "execution": {
     "iopub.execute_input": "2025-06-04T02:51:56.247417Z",
     "iopub.status.busy": "2025-06-04T02:51:56.239365Z",
     "iopub.status.idle": "2025-06-04T02:51:56.342407Z",
     "shell.execute_reply": "2025-06-04T02:51:56.340273Z"
    },
    "papermill": {
     "duration": 0.113373,
     "end_time": "2025-06-04T02:51:56.342407",
     "exception": false,
     "start_time": "2025-06-04T02:51:56.229034",
     "status": "completed"
    },
    "tags": []
   },
   "outputs": [],
   "source": [
    "meds_agg_df = (\n",
    "    meds_weight_filtered_df\n",
    "    .groupby(['hospitalization_id', 'med_category'])['dose_mcg_per_kg_min']\n",
    "    .agg([ 'max'])\n",
    "    .unstack(level='med_category')  # Pivot vital_category into columns\n",
    ")\n",
    "# Rename columns to format: vital_category_min, vital_category_max\n",
    "meds_agg_df.columns = [f'icu_24hr_infusion_{vital}_{stat}' for stat, vital in meds_agg_df.columns]"
   ]
  },
  {
   "cell_type": "code",
   "execution_count": 9,
   "id": "df9fa4ff",
   "metadata": {
    "execution": {
     "iopub.execute_input": "2025-06-04T02:51:56.381366Z",
     "iopub.status.busy": "2025-06-04T02:51:56.373108Z",
     "iopub.status.idle": "2025-06-04T02:51:56.402026Z",
     "shell.execute_reply": "2025-06-04T02:51:56.400964Z"
    },
    "papermill": {
     "duration": 0.041257,
     "end_time": "2025-06-04T02:51:56.404147",
     "exception": false,
     "start_time": "2025-06-04T02:51:56.362890",
     "status": "completed"
    },
    "tags": []
   },
   "outputs": [],
   "source": [
    "meds_agg_df.reset_index().to_parquet('../output/final/c2d2_medications.parquet',index=False)"
   ]
  }
 ],
 "metadata": {
  "kernelspec": {
   "display_name": ".clif_c2d2",
   "language": "python",
   "name": "python3"
  },
  "language_info": {
   "codemirror_mode": {
    "name": "ipython",
    "version": 3
   },
   "file_extension": ".py",
   "mimetype": "text/x-python",
   "name": "python",
   "nbconvert_exporter": "python",
   "pygments_lexer": "ipython3",
   "version": "3.11.5"
  },
  "papermill": {
   "default_parameters": {},
   "duration": 19.780951,
   "end_time": "2025-06-04T02:51:57.197607",
   "environment_variables": {},
   "exception": null,
   "input_path": "08_medications.ipynb",
   "output_path": "08_medications.ipynb",
   "parameters": {},
   "start_time": "2025-06-04T02:51:37.416656",
   "version": "2.6.0"
  },
  "widgets": {
   "application/vnd.jupyter.widget-state+json": {
    "state": {
     "09984b52dbe24df2b000df7490427be7": {
      "model_module": "@jupyter-widgets/controls",
      "model_module_version": "2.0.0",
      "model_name": "ProgressStyleModel",
      "state": {
       "_model_module": "@jupyter-widgets/controls",
       "_model_module_version": "2.0.0",
       "_model_name": "ProgressStyleModel",
       "_view_count": null,
       "_view_module": "@jupyter-widgets/base",
       "_view_module_version": "2.0.0",
       "_view_name": "StyleView",
       "bar_color": "black",
       "description_width": ""
      }
     },
     "827ce7c80f804dd8bbe870ce724cf8ee": {
      "model_module": "@jupyter-widgets/base",
      "model_module_version": "2.0.0",
      "model_name": "LayoutModel",
      "state": {
       "_model_module": "@jupyter-widgets/base",
       "_model_module_version": "2.0.0",
       "_model_name": "LayoutModel",
       "_view_count": null,
       "_view_module": "@jupyter-widgets/base",
       "_view_module_version": "2.0.0",
       "_view_name": "LayoutView",
       "align_content": null,
       "align_items": null,
       "align_self": null,
       "border_bottom": null,
       "border_left": null,
       "border_right": null,
       "border_top": null,
       "bottom": null,
       "display": null,
       "flex": null,
       "flex_flow": null,
       "grid_area": null,
       "grid_auto_columns": null,
       "grid_auto_flow": null,
       "grid_auto_rows": null,
       "grid_column": null,
       "grid_gap": null,
       "grid_row": null,
       "grid_template_areas": null,
       "grid_template_columns": null,
       "grid_template_rows": null,
       "height": null,
       "justify_content": null,
       "justify_items": null,
       "left": null,
       "margin": null,
       "max_height": null,
       "max_width": null,
       "min_height": null,
       "min_width": null,
       "object_fit": null,
       "object_position": null,
       "order": null,
       "overflow": null,
       "padding": null,
       "right": null,
       "top": null,
       "visibility": null,
       "width": "auto"
      }
     },
     "c56e78a9fd5a44e3bde744efa0f16355": {
      "model_module": "@jupyter-widgets/controls",
      "model_module_version": "2.0.0",
      "model_name": "FloatProgressModel",
      "state": {
       "_dom_classes": [],
       "_model_module": "@jupyter-widgets/controls",
       "_model_module_version": "2.0.0",
       "_model_name": "FloatProgressModel",
       "_view_count": null,
       "_view_module": "@jupyter-widgets/controls",
       "_view_module_version": "2.0.0",
       "_view_name": "ProgressView",
       "bar_style": "",
       "description": "",
       "description_allow_html": false,
       "layout": "IPY_MODEL_827ce7c80f804dd8bbe870ce724cf8ee",
       "max": 100.0,
       "min": 0.0,
       "orientation": "horizontal",
       "style": "IPY_MODEL_09984b52dbe24df2b000df7490427be7",
       "tabbable": null,
       "tooltip": null,
       "value": 100.0
      }
     }
    },
    "version_major": 2,
    "version_minor": 0
   }
  }
 },
 "nbformat": 4,
 "nbformat_minor": 5
}