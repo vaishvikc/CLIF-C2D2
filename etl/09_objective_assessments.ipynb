{
 "cells": [
  {
   "cell_type": "code",
   "execution_count": 1,
   "id": "c9dfcd36",
   "metadata": {
    "execution": {
     "iopub.execute_input": "2025-06-04T15:40:35.312927Z",
     "iopub.status.busy": "2025-06-04T15:40:35.312927Z",
     "iopub.status.idle": "2025-06-04T15:40:36.905118Z",
     "shell.execute_reply": "2025-06-04T15:40:36.903564Z"
    },
    "papermill": {
     "duration": 1.604367,
     "end_time": "2025-06-04T15:40:36.905118",
     "exception": false,
     "start_time": "2025-06-04T15:40:35.300751",
     "status": "completed"
    },
    "tags": []
   },
   "outputs": [
    {
     "name": "stdout",
     "output_type": "stream",
     "text": [
      "✅ Loaded configuration from config.json\n"
     ]
    }
   ],
   "source": [
    "import pandas as pd\n",
    "import numpy as np\n",
    "import matplotlib.pyplot as plt\n",
    "import os\n",
    "import json\n",
    "import pyCLIF\n",
    "from datetime import timedelta\n",
    "import pyarrow\n",
    "import waterfall\n",
    "import warnings\n",
    "warnings.filterwarnings('ignore')"
   ]
  },
  {
   "cell_type": "code",
   "execution_count": 2,
   "id": "e5184593",
   "metadata": {
    "execution": {
     "iopub.execute_input": "2025-06-04T15:40:36.936074Z",
     "iopub.status.busy": "2025-06-04T15:40:36.936074Z",
     "iopub.status.idle": "2025-06-04T15:40:37.762621Z",
     "shell.execute_reply": "2025-06-04T15:40:37.761443Z"
    },
    "papermill": {
     "duration": 0.839059,
     "end_time": "2025-06-04T15:40:37.762621",
     "exception": false,
     "start_time": "2025-06-04T15:40:36.923562",
     "status": "completed"
    },
    "tags": []
   },
   "outputs": [],
   "source": [
    "clif_c2d2_mapping = pd.read_excel('../mapping/ccm-53-e1045-s002.xlsx')\n",
    "cohort = pd.read_parquet('../output/final/c2d2_cohort.parquet')"
   ]
  },
  {
   "cell_type": "markdown",
   "id": "35eb2ca0",
   "metadata": {
    "papermill": {
     "duration": 0.01006,
     "end_time": "2025-06-04T15:40:37.789703",
     "exception": false,
     "start_time": "2025-06-04T15:40:37.779643",
     "status": "completed"
    },
    "tags": []
   },
   "source": [
    "## 🗺️ CLIF Vitals to C2D2 Mapping\n",
    "\n",
    "This section outlines the standardized mapping of vital sign data from **CLIF source tables** to **C2D2-compliant variables** for downstream harmonization and modeling.\n"
   ]
  },
  {
   "cell_type": "code",
   "execution_count": 3,
   "id": "0cbda019",
   "metadata": {
    "execution": {
     "iopub.execute_input": "2025-06-04T15:40:37.799988Z",
     "iopub.status.busy": "2025-06-04T15:40:37.799988Z",
     "iopub.status.idle": "2025-06-04T15:40:37.831603Z",
     "shell.execute_reply": "2025-06-04T15:40:37.831603Z"
    },
    "papermill": {
     "duration": 0.031615,
     "end_time": "2025-06-04T15:40:37.831603",
     "exception": false,
     "start_time": "2025-06-04T15:40:37.799988",
     "status": "completed"
    },
    "tags": []
   },
   "outputs": [
    {
     "data": {
      "text/html": [
       "<div>\n",
       "<style scoped>\n",
       "    .dataframe tbody tr th:only-of-type {\n",
       "        vertical-align: middle;\n",
       "    }\n",
       "\n",
       "    .dataframe tbody tr th {\n",
       "        vertical-align: top;\n",
       "    }\n",
       "\n",
       "    .dataframe thead th {\n",
       "        text-align: right;\n",
       "    }\n",
       "</style>\n",
       "<table border=\"1\" class=\"dataframe\">\n",
       "  <thead>\n",
       "    <tr style=\"text-align: right;\">\n",
       "      <th></th>\n",
       "      <th>Domain</th>\n",
       "      <th>Sub-domain</th>\n",
       "      <th>Concept</th>\n",
       "      <th>Common Data Element</th>\n",
       "      <th>CLIF Table</th>\n",
       "      <th>CLIF mCIDE Crosswalk column</th>\n",
       "      <th>CLIF version</th>\n",
       "      <th>mCIDE</th>\n",
       "      <th>Definition</th>\n",
       "      <th>Coding</th>\n",
       "      <th>...</th>\n",
       "      <th>SOFA</th>\n",
       "      <th>PSOFA</th>\n",
       "      <th>nSOFA</th>\n",
       "      <th>PRISM III</th>\n",
       "      <th>PIM3</th>\n",
       "      <th>Charlson CI</th>\n",
       "      <th>MRC-ICU</th>\n",
       "      <th>SOI count</th>\n",
       "      <th>No SOI score</th>\n",
       "      <th>Potential EHR Datasource</th>\n",
       "    </tr>\n",
       "  </thead>\n",
       "  <tbody>\n",
       "    <tr>\n",
       "      <th>205</th>\n",
       "      <td>Objective assessments</td>\n",
       "      <td>Vital signs</td>\n",
       "      <td>PRISM Heart Rate - highest</td>\n",
       "      <td>prism_heartrate_max</td>\n",
       "      <td>Vitals</td>\n",
       "      <td>vital_category</td>\n",
       "      <td>CLIF-2.1.0 (Live)</td>\n",
       "      <td>heart_rate</td>\n",
       "      <td>Patient's heart rate (highest) captured during...</td>\n",
       "      <td>[integer]</td>\n",
       "      <td>...</td>\n",
       "      <td>NaN</td>\n",
       "      <td>NaN</td>\n",
       "      <td>NaN</td>\n",
       "      <td>1.0</td>\n",
       "      <td>NaN</td>\n",
       "      <td>NaN</td>\n",
       "      <td>NaN</td>\n",
       "      <td>2</td>\n",
       "      <td>NaN</td>\n",
       "      <td>Flowsheet</td>\n",
       "    </tr>\n",
       "    <tr>\n",
       "      <th>206</th>\n",
       "      <td>Objective assessments</td>\n",
       "      <td>Vital signs</td>\n",
       "      <td>Heart Rate - highest</td>\n",
       "      <td>icu_24hr_heartrate_max</td>\n",
       "      <td>Vitals</td>\n",
       "      <td>vital_category</td>\n",
       "      <td>CLIF-2.1.0 (Live)</td>\n",
       "      <td>heart_rate</td>\n",
       "      <td>Patient's heart rate (highest) captured during...</td>\n",
       "      <td>[integer]</td>\n",
       "      <td>...</td>\n",
       "      <td>NaN</td>\n",
       "      <td>NaN</td>\n",
       "      <td>NaN</td>\n",
       "      <td>NaN</td>\n",
       "      <td>NaN</td>\n",
       "      <td>NaN</td>\n",
       "      <td>NaN</td>\n",
       "      <td>1</td>\n",
       "      <td>NaN</td>\n",
       "      <td>Flowsheet</td>\n",
       "    </tr>\n",
       "    <tr>\n",
       "      <th>207</th>\n",
       "      <td>Objective assessments</td>\n",
       "      <td>Vital signs</td>\n",
       "      <td>MAP - highest</td>\n",
       "      <td>icu_24hr_map_max</td>\n",
       "      <td>Vitals</td>\n",
       "      <td>vital_category</td>\n",
       "      <td>CLIF-2.1.0 (Live)</td>\n",
       "      <td>map</td>\n",
       "      <td>A-line or non-invasive (NIBP); both acceptable...</td>\n",
       "      <td>[integer] \\nUnit: mmHg</td>\n",
       "      <td>...</td>\n",
       "      <td>NaN</td>\n",
       "      <td>NaN</td>\n",
       "      <td>NaN</td>\n",
       "      <td>NaN</td>\n",
       "      <td>NaN</td>\n",
       "      <td>NaN</td>\n",
       "      <td>NaN</td>\n",
       "      <td>1</td>\n",
       "      <td>NaN</td>\n",
       "      <td>Flowsheet</td>\n",
       "    </tr>\n",
       "    <tr>\n",
       "      <th>208</th>\n",
       "      <td>Objective assessments</td>\n",
       "      <td>Severity of Illness Score</td>\n",
       "      <td>PRISM Pupil reaction</td>\n",
       "      <td>prism_reactivepupils</td>\n",
       "      <td>Vitals</td>\n",
       "      <td>vital_category</td>\n",
       "      <td>CLIF 2.2 (Upcoming release)</td>\n",
       "      <td>TBD</td>\n",
       "      <td>Number of pupils dilated &gt;3 mm and fixed captu...</td>\n",
       "      <td>None, One; Both; Unknown</td>\n",
       "      <td>...</td>\n",
       "      <td>NaN</td>\n",
       "      <td>NaN</td>\n",
       "      <td>NaN</td>\n",
       "      <td>1.0</td>\n",
       "      <td>NaN</td>\n",
       "      <td>NaN</td>\n",
       "      <td>NaN</td>\n",
       "      <td>1</td>\n",
       "      <td>NaN</td>\n",
       "      <td>Flowsheet</td>\n",
       "    </tr>\n",
       "    <tr>\n",
       "      <th>209</th>\n",
       "      <td>Objective assessments</td>\n",
       "      <td>Severity of Illness Score</td>\n",
       "      <td>Pupil reaction</td>\n",
       "      <td>icu_24hr_reactivepupils</td>\n",
       "      <td>Vitals</td>\n",
       "      <td>vital_category</td>\n",
       "      <td>CLIF 2.2 (Upcoming release)</td>\n",
       "      <td>TBD</td>\n",
       "      <td>Number of pupils dilated &gt;3 mm and fixed captu...</td>\n",
       "      <td>None, One; Both; Unknown</td>\n",
       "      <td>...</td>\n",
       "      <td>NaN</td>\n",
       "      <td>NaN</td>\n",
       "      <td>NaN</td>\n",
       "      <td>NaN</td>\n",
       "      <td>1.0</td>\n",
       "      <td>NaN</td>\n",
       "      <td>NaN</td>\n",
       "      <td>1</td>\n",
       "      <td>NaN</td>\n",
       "      <td>Flowsheet</td>\n",
       "    </tr>\n",
       "  </tbody>\n",
       "</table>\n",
       "<p>5 rows × 24 columns</p>\n",
       "</div>"
      ],
      "text/plain": [
       "                    Domain                 Sub-domain  \\\n",
       "205  Objective assessments                Vital signs   \n",
       "206  Objective assessments                Vital signs   \n",
       "207  Objective assessments                Vital signs   \n",
       "208  Objective assessments  Severity of Illness Score   \n",
       "209  Objective assessments  Severity of Illness Score   \n",
       "\n",
       "                        Concept      Common Data Element CLIF Table  \\\n",
       "205  PRISM Heart Rate - highest      prism_heartrate_max     Vitals   \n",
       "206        Heart Rate - highest   icu_24hr_heartrate_max     Vitals   \n",
       "207               MAP - highest         icu_24hr_map_max     Vitals   \n",
       "208        PRISM Pupil reaction     prism_reactivepupils     Vitals   \n",
       "209              Pupil reaction  icu_24hr_reactivepupils     Vitals   \n",
       "\n",
       "    CLIF mCIDE Crosswalk column                 CLIF version       mCIDE  \\\n",
       "205              vital_category            CLIF-2.1.0 (Live)  heart_rate   \n",
       "206              vital_category            CLIF-2.1.0 (Live)  heart_rate   \n",
       "207              vital_category            CLIF-2.1.0 (Live)         map   \n",
       "208              vital_category  CLIF 2.2 (Upcoming release)         TBD   \n",
       "209              vital_category  CLIF 2.2 (Upcoming release)         TBD   \n",
       "\n",
       "                                            Definition  \\\n",
       "205  Patient's heart rate (highest) captured during...   \n",
       "206  Patient's heart rate (highest) captured during...   \n",
       "207  A-line or non-invasive (NIBP); both acceptable...   \n",
       "208  Number of pupils dilated >3 mm and fixed captu...   \n",
       "209  Number of pupils dilated >3 mm and fixed captu...   \n",
       "\n",
       "                       Coding  ... SOFA PSOFA  nSOFA PRISM III  PIM3  \\\n",
       "205                 [integer]  ...  NaN   NaN    NaN       1.0   NaN   \n",
       "206                 [integer]  ...  NaN   NaN    NaN       NaN   NaN   \n",
       "207    [integer] \\nUnit: mmHg  ...  NaN   NaN    NaN       NaN   NaN   \n",
       "208  None, One; Both; Unknown  ...  NaN   NaN    NaN       1.0   NaN   \n",
       "209  None, One; Both; Unknown  ...  NaN   NaN    NaN       NaN   1.0   \n",
       "\n",
       "     Charlson CI  MRC-ICU  SOI count  No SOI score  Potential EHR Datasource  \n",
       "205          NaN      NaN          2           NaN                 Flowsheet  \n",
       "206          NaN      NaN          1           NaN                 Flowsheet  \n",
       "207          NaN      NaN          1           NaN                 Flowsheet  \n",
       "208          NaN      NaN          1           NaN                 Flowsheet  \n",
       "209          NaN      NaN          1           NaN                 Flowsheet  \n",
       "\n",
       "[5 rows x 24 columns]"
      ]
     },
     "execution_count": 3,
     "metadata": {},
     "output_type": "execute_result"
    }
   ],
   "source": [
    "mapper = clif_c2d2_mapping[(clif_c2d2_mapping['Domain']=='Objective assessments') & (clif_c2d2_mapping['CLIF Table']=='Vitals')]\n",
    "mapper.head()"
   ]
  },
  {
   "cell_type": "code",
   "execution_count": 4,
   "id": "74d369f9",
   "metadata": {
    "execution": {
     "iopub.execute_input": "2025-06-04T15:40:37.851211Z",
     "iopub.status.busy": "2025-06-04T15:40:37.851211Z",
     "iopub.status.idle": "2025-06-04T15:40:37.860209Z",
     "shell.execute_reply": "2025-06-04T15:40:37.860209Z"
    },
    "papermill": {
     "duration": 0.020825,
     "end_time": "2025-06-04T15:40:37.861849",
     "exception": false,
     "start_time": "2025-06-04T15:40:37.841024",
     "status": "completed"
    },
    "tags": []
   },
   "outputs": [],
   "source": [
    "vitals_required_columns = [\n",
    "    'hospitalization_id',\n",
    "    'recorded_dttm',\n",
    "    'vital_category',\n",
    "    'vital_value'\n",
    "]\n",
    "\n",
    "vitals_of_interest = ['heart_rate', 'map', 'temp_c']    #['respiratory_rate', 'sbp', 'dbp', 'spo2', 'weight_kg', 'height_cm']"
   ]
  },
  {
   "cell_type": "code",
   "execution_count": 5,
   "id": "6d9c53f3",
   "metadata": {
    "execution": {
     "iopub.execute_input": "2025-06-04T15:40:37.887328Z",
     "iopub.status.busy": "2025-06-04T15:40:37.887328Z",
     "iopub.status.idle": "2025-06-04T15:41:02.459323Z",
     "shell.execute_reply": "2025-06-04T15:41:02.459249Z"
    },
    "papermill": {
     "duration": 24.579075,
     "end_time": "2025-06-04T15:41:02.459323",
     "exception": false,
     "start_time": "2025-06-04T15:40:37.880248",
     "status": "completed"
    },
    "tags": []
   },
   "outputs": [
    {
     "data": {
      "application/vnd.jupyter.widget-view+json": {
       "model_id": "930948c26c4f4feaad7ffa09e2b250ad",
       "version_major": 2,
       "version_minor": 0
      },
      "text/plain": [
       "FloatProgress(value=0.0, layout=Layout(width='auto'), style=ProgressStyle(bar_color='black'))"
      ]
     },
     "metadata": {},
     "output_type": "display_data"
    },
    {
     "name": "stdout",
     "output_type": "stream",
     "text": [
      "Data loaded successfully from C:/Users/vchaudha/Downloads/rush_parquet_2\\clif_vitals.parquet\n"
     ]
    },
    {
     "name": "stdout",
     "output_type": "stream",
     "text": [
      "WARNING: recorded_dttm: Naive datetime, NOT converting. Assuming it's in your LOCAL ZONE. Please check ETL!\n"
     ]
    }
   ],
   "source": [
    "vitals_cohort = pyCLIF.load_data('clif_vitals',\n",
    "    columns=vitals_required_columns,\n",
    "    filters={'hospitalization_id': cohort['hospitalization_id'].unique().tolist(), \n",
    "             'vital_category': vitals_of_interest}\n",
    ")\n",
    "vitals_cohort = pyCLIF.convert_datetime_columns_to_site_tz(vitals_cohort, pyCLIF.helper['timezone'])"
   ]
  },
  {
   "cell_type": "code",
   "execution_count": 6,
   "id": "39a07a3e",
   "metadata": {
    "execution": {
     "iopub.execute_input": "2025-06-04T15:41:02.491857Z",
     "iopub.status.busy": "2025-06-04T15:41:02.491857Z",
     "iopub.status.idle": "2025-06-04T15:41:09.452296Z",
     "shell.execute_reply": "2025-06-04T15:41:09.452296Z"
    },
    "papermill": {
     "duration": 6.976267,
     "end_time": "2025-06-04T15:41:09.457987",
     "exception": false,
     "start_time": "2025-06-04T15:41:02.481720",
     "status": "completed"
    },
    "tags": []
   },
   "outputs": [],
   "source": [
    "# Select relevant columns and drop duplicates\n",
    "cohort_trimmed = cohort[['hospitalization_id', '24hr_icu_in_dttm', '24hr_icu_out_dttm']].drop_duplicates()\n",
    "\n",
    "# Perform inner join on 'hospitalization_id'\n",
    "vital_joined_df = pd.merge(cohort_trimmed, vitals_cohort, on='hospitalization_id', how='inner')"
   ]
  },
  {
   "cell_type": "code",
   "execution_count": 7,
   "id": "dd94afc6",
   "metadata": {
    "execution": {
     "iopub.execute_input": "2025-06-04T15:41:09.488954Z",
     "iopub.status.busy": "2025-06-04T15:41:09.488954Z",
     "iopub.status.idle": "2025-06-04T15:41:11.154558Z",
     "shell.execute_reply": "2025-06-04T15:41:11.154558Z"
    },
    "papermill": {
     "duration": 1.678104,
     "end_time": "2025-06-04T15:41:11.154558",
     "exception": false,
     "start_time": "2025-06-04T15:41:09.476454",
     "status": "completed"
    },
    "tags": []
   },
   "outputs": [],
   "source": [
    "# Filter rows where recorded_dttm is within the ICU 24hr window\n",
    "vital_filtered_df = vital_joined_df[\n",
    "    (vital_joined_df['recorded_dttm'] >= vital_joined_df['24hr_icu_in_dttm']) &\n",
    "    (vital_joined_df['recorded_dttm'] <= vital_joined_df['24hr_icu_out_dttm'])\n",
    "]\n",
    "\n",
    "# Group by hospitalization_id and vital_category, and compute min/max of vital_value\n",
    "vital_agg_df = (\n",
    "    vital_filtered_df\n",
    "    .groupby(['hospitalization_id', 'vital_category'])['vital_value']\n",
    "    .agg(['min', 'max'])\n",
    "    .unstack(level='vital_category')  # Pivot vital_category into columns\n",
    ")\n",
    "# Rename columns to format: vital_category_min, vital_category_max\n",
    "vital_agg_df.columns = [f'icu_24hr_{vital}_{stat}' for stat, vital in vital_agg_df.columns]"
   ]
  },
  {
   "cell_type": "code",
   "execution_count": 8,
   "id": "cd47adbd",
   "metadata": {
    "execution": {
     "iopub.execute_input": "2025-06-04T15:41:11.193085Z",
     "iopub.status.busy": "2025-06-04T15:41:11.193085Z",
     "iopub.status.idle": "2025-06-04T15:41:11.267301Z",
     "shell.execute_reply": "2025-06-04T15:41:11.266250Z"
    },
    "papermill": {
     "duration": 0.092657,
     "end_time": "2025-06-04T15:41:11.267301",
     "exception": false,
     "start_time": "2025-06-04T15:41:11.174644",
     "status": "completed"
    },
    "tags": []
   },
   "outputs": [],
   "source": [
    "vital_agg_df.reset_index().to_parquet('../output/final/c2d2_objective_assessments.parquet',index=False)"
   ]
  }
 ],
 "metadata": {
  "kernelspec": {
   "display_name": ".clif_c2d2",
   "language": "python",
   "name": "python3"
  },
  "language_info": {
   "codemirror_mode": {
    "name": "ipython",
    "version": 3
   },
   "file_extension": ".py",
   "mimetype": "text/x-python",
   "name": "python",
   "nbconvert_exporter": "python",
   "pygments_lexer": "ipython3",
   "version": "3.11.5"
  },
  "papermill": {
   "default_parameters": {},
   "duration": 40.611118,
   "end_time": "2025-06-04T15:41:13.102730",
   "environment_variables": {},
   "exception": null,
   "input_path": "09_objective_assessments.ipynb",
   "output_path": "09_objective_assessments.ipynb",
   "parameters": {},
   "start_time": "2025-06-04T15:40:32.491612",
   "version": "2.6.0"
  },
  "widgets": {
   "application/vnd.jupyter.widget-state+json": {
    "state": {
     "5d7920a324554e5d9b703449551e4cbc": {
      "model_module": "@jupyter-widgets/base",
      "model_module_version": "2.0.0",
      "model_name": "LayoutModel",
      "state": {
       "_model_module": "@jupyter-widgets/base",
       "_model_module_version": "2.0.0",
       "_model_name": "LayoutModel",
       "_view_count": null,
       "_view_module": "@jupyter-widgets/base",
       "_view_module_version": "2.0.0",
       "_view_name": "LayoutView",
       "align_content": null,
       "align_items": null,
       "align_self": null,
       "border_bottom": null,
       "border_left": null,
       "border_right": null,
       "border_top": null,
       "bottom": null,
       "display": null,
       "flex": null,
       "flex_flow": null,
       "grid_area": null,
       "grid_auto_columns": null,
       "grid_auto_flow": null,
       "grid_auto_rows": null,
       "grid_column": null,
       "grid_gap": null,
       "grid_row": null,
       "grid_template_areas": null,
       "grid_template_columns": null,
       "grid_template_rows": null,
       "height": null,
       "justify_content": null,
       "justify_items": null,
       "left": null,
       "margin": null,
       "max_height": null,
       "max_width": null,
       "min_height": null,
       "min_width": null,
       "object_fit": null,
       "object_position": null,
       "order": null,
       "overflow": null,
       "padding": null,
       "right": null,
       "top": null,
       "visibility": null,
       "width": "auto"
      }
     },
     "930948c26c4f4feaad7ffa09e2b250ad": {
      "model_module": "@jupyter-widgets/controls",
      "model_module_version": "2.0.0",
      "model_name": "FloatProgressModel",
      "state": {
       "_dom_classes": [],
       "_model_module": "@jupyter-widgets/controls",
       "_model_module_version": "2.0.0",
       "_model_name": "FloatProgressModel",
       "_view_count": null,
       "_view_module": "@jupyter-widgets/controls",
       "_view_module_version": "2.0.0",
       "_view_name": "ProgressView",
       "bar_style": "",
       "description": "",
       "description_allow_html": false,
       "layout": "IPY_MODEL_5d7920a324554e5d9b703449551e4cbc",
       "max": 100.0,
       "min": 0.0,
       "orientation": "horizontal",
       "style": "IPY_MODEL_c5b1d9570c7247f2879b4a6ea22329dd",
       "tabbable": null,
       "tooltip": null,
       "value": 100.0
      }
     },
     "c5b1d9570c7247f2879b4a6ea22329dd": {
      "model_module": "@jupyter-widgets/controls",
      "model_module_version": "2.0.0",
      "model_name": "ProgressStyleModel",
      "state": {
       "_model_module": "@jupyter-widgets/controls",
       "_model_module_version": "2.0.0",
       "_model_name": "ProgressStyleModel",
       "_view_count": null,
       "_view_module": "@jupyter-widgets/base",
       "_view_module_version": "2.0.0",
       "_view_name": "StyleView",
       "bar_color": "black",
       "description_width": ""
      }
     }
    },
    "version_major": 2,
    "version_minor": 0
   }
  }
 },
 "nbformat": 4,
 "nbformat_minor": 5
}