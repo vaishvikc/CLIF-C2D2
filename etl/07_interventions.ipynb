{
 "cells": [
  {
   "cell_type": "code",
   "execution_count": 1,
   "id": "0a62dfae",
   "metadata": {
    "execution": {
     "iopub.execute_input": "2025-06-04T15:39:47.563063Z",
     "iopub.status.busy": "2025-06-04T15:39:47.554745Z",
     "iopub.status.idle": "2025-06-04T15:39:49.206293Z",
     "shell.execute_reply": "2025-06-04T15:39:49.206293Z"
    },
    "papermill": {
     "duration": 1.663912,
     "end_time": "2025-06-04T15:39:49.206293",
     "exception": false,
     "start_time": "2025-06-04T15:39:47.542381",
     "status": "completed"
    },
    "tags": []
   },
   "outputs": [
    {
     "name": "stdout",
     "output_type": "stream",
     "text": [
      "✅ Loaded configuration from config.json\n"
     ]
    }
   ],
   "source": [
    "import pandas as pd\n",
    "import numpy as np\n",
    "import matplotlib.pyplot as plt\n",
    "import os\n",
    "import json\n",
    "import pyCLIF\n",
    "from datetime import timedelta\n",
    "import pyarrow\n",
    "import waterfall\n",
    "import warnings\n",
    "warnings.filterwarnings('ignore')"
   ]
  },
  {
   "cell_type": "code",
   "execution_count": 2,
   "id": "39625ef4",
   "metadata": {
    "execution": {
     "iopub.execute_input": "2025-06-04T15:39:49.236637Z",
     "iopub.status.busy": "2025-06-04T15:39:49.236637Z",
     "iopub.status.idle": "2025-06-04T15:39:50.140739Z",
     "shell.execute_reply": "2025-06-04T15:39:50.140739Z"
    },
    "papermill": {
     "duration": 0.918926,
     "end_time": "2025-06-04T15:39:50.145360",
     "exception": false,
     "start_time": "2025-06-04T15:39:49.226434",
     "status": "completed"
    },
    "tags": []
   },
   "outputs": [],
   "source": [
    "clif_c2d2_mapping = pd.read_excel('../mapping/ccm-53-e1045-s002.xlsx')\n",
    "cohort = pd.read_parquet('../output/final/c2d2_cohort.parquet')"
   ]
  },
  {
   "cell_type": "markdown",
   "id": "c3a84a42",
   "metadata": {
    "papermill": {
     "duration": 0.01072,
     "end_time": "2025-06-04T15:39:50.168569",
     "exception": false,
     "start_time": "2025-06-04T15:39:50.157849",
     "status": "completed"
    },
    "tags": []
   },
   "source": [
    "## 🗺️ CLIF Respiratory Support to C2D2 Mapping"
   ]
  },
  {
   "cell_type": "code",
   "execution_count": 3,
   "id": "dd7323c1",
   "metadata": {
    "execution": {
     "iopub.execute_input": "2025-06-04T15:39:50.189155Z",
     "iopub.status.busy": "2025-06-04T15:39:50.189155Z",
     "iopub.status.idle": "2025-06-04T15:39:50.231822Z",
     "shell.execute_reply": "2025-06-04T15:39:50.231822Z"
    },
    "papermill": {
     "duration": 0.052894,
     "end_time": "2025-06-04T15:39:50.231822",
     "exception": false,
     "start_time": "2025-06-04T15:39:50.178928",
     "status": "completed"
    },
    "tags": []
   },
   "outputs": [
    {
     "data": {
      "text/html": [
       "<div>\n",
       "<style scoped>\n",
       "    .dataframe tbody tr th:only-of-type {\n",
       "        vertical-align: middle;\n",
       "    }\n",
       "\n",
       "    .dataframe tbody tr th {\n",
       "        vertical-align: top;\n",
       "    }\n",
       "\n",
       "    .dataframe thead th {\n",
       "        text-align: right;\n",
       "    }\n",
       "</style>\n",
       "<table border=\"1\" class=\"dataframe\">\n",
       "  <thead>\n",
       "    <tr style=\"text-align: right;\">\n",
       "      <th></th>\n",
       "      <th>Domain</th>\n",
       "      <th>Sub-domain</th>\n",
       "      <th>Concept</th>\n",
       "      <th>Common Data Element</th>\n",
       "      <th>CLIF Table</th>\n",
       "      <th>CLIF mCIDE Crosswalk column</th>\n",
       "      <th>CLIF version</th>\n",
       "      <th>mCIDE</th>\n",
       "      <th>Definition</th>\n",
       "      <th>Coding</th>\n",
       "      <th>...</th>\n",
       "      <th>SOFA</th>\n",
       "      <th>PSOFA</th>\n",
       "      <th>nSOFA</th>\n",
       "      <th>PRISM III</th>\n",
       "      <th>PIM3</th>\n",
       "      <th>Charlson CI</th>\n",
       "      <th>MRC-ICU</th>\n",
       "      <th>SOI count</th>\n",
       "      <th>No SOI score</th>\n",
       "      <th>Potential EHR Datasource</th>\n",
       "    </tr>\n",
       "  </thead>\n",
       "  <tbody>\n",
       "    <tr>\n",
       "      <th>157</th>\n",
       "      <td>Interventions</td>\n",
       "      <td>Respiratory Support</td>\n",
       "      <td>Invasive mechanical ventilation</td>\n",
       "      <td>icu_any_imv</td>\n",
       "      <td>respiratory support</td>\n",
       "      <td>device_category</td>\n",
       "      <td>CLIF-2.1.0 (Live)</td>\n",
       "      <td>IMV</td>\n",
       "      <td>Whether a patient underwent an intervention in...</td>\n",
       "      <td>Yes; No; Unknown</td>\n",
       "      <td>...</td>\n",
       "      <td>1.0</td>\n",
       "      <td>1.0</td>\n",
       "      <td>1.0</td>\n",
       "      <td>NaN</td>\n",
       "      <td>1.0</td>\n",
       "      <td>NaN</td>\n",
       "      <td>NaN</td>\n",
       "      <td>4</td>\n",
       "      <td>NaN</td>\n",
       "      <td>Problem list, ICD10 code, flowsheet, orders</td>\n",
       "    </tr>\n",
       "    <tr>\n",
       "      <th>158</th>\n",
       "      <td>Interventions</td>\n",
       "      <td>Respiratory Support</td>\n",
       "      <td>IMV Duration</td>\n",
       "      <td>icu_imv_days</td>\n",
       "      <td>Respiratory Support,ADT</td>\n",
       "      <td>device_category</td>\n",
       "      <td>CLIF-2.1.0 (Live)</td>\n",
       "      <td>calculated</td>\n",
       "      <td>Total number of days that a patient underwent ...</td>\n",
       "      <td>[Integer]\\nUnits: days</td>\n",
       "      <td>...</td>\n",
       "      <td>NaN</td>\n",
       "      <td>NaN</td>\n",
       "      <td>NaN</td>\n",
       "      <td>NaN</td>\n",
       "      <td>NaN</td>\n",
       "      <td>NaN</td>\n",
       "      <td>NaN</td>\n",
       "      <td>0</td>\n",
       "      <td>1.0</td>\n",
       "      <td>Problem list, ICD10 code, flowsheet, orders</td>\n",
       "    </tr>\n",
       "    <tr>\n",
       "      <th>159</th>\n",
       "      <td>Interventions</td>\n",
       "      <td>Respiratory Support</td>\n",
       "      <td>Other oxygen support</td>\n",
       "      <td>icu_any_oxygen_support</td>\n",
       "      <td>Respiratory Support,ADT</td>\n",
       "      <td>device_category</td>\n",
       "      <td>CLIF-2.1.0 (Live)</td>\n",
       "      <td>NIPPV, CPAP, High Flow NC, Face Mask, Trach Co...</td>\n",
       "      <td>Whether a patient underwent an intervention in...</td>\n",
       "      <td>[Check all that apply] \\nOxygen therapy, C-PAP...</td>\n",
       "      <td>...</td>\n",
       "      <td>NaN</td>\n",
       "      <td>NaN</td>\n",
       "      <td>NaN</td>\n",
       "      <td>NaN</td>\n",
       "      <td>NaN</td>\n",
       "      <td>NaN</td>\n",
       "      <td>1.0</td>\n",
       "      <td>1</td>\n",
       "      <td>NaN</td>\n",
       "      <td>Problem list, ICD10 code, flowsheet</td>\n",
       "    </tr>\n",
       "  </tbody>\n",
       "</table>\n",
       "<p>3 rows × 24 columns</p>\n",
       "</div>"
      ],
      "text/plain": [
       "            Domain           Sub-domain                          Concept  \\\n",
       "157  Interventions  Respiratory Support  Invasive mechanical ventilation   \n",
       "158  Interventions  Respiratory Support                     IMV Duration   \n",
       "159  Interventions  Respiratory Support             Other oxygen support   \n",
       "\n",
       "        Common Data Element               CLIF Table  \\\n",
       "157             icu_any_imv      respiratory support   \n",
       "158            icu_imv_days  Respiratory Support,ADT   \n",
       "159  icu_any_oxygen_support  Respiratory Support,ADT   \n",
       "\n",
       "    CLIF mCIDE Crosswalk column       CLIF version  \\\n",
       "157             device_category  CLIF-2.1.0 (Live)   \n",
       "158             device_category  CLIF-2.1.0 (Live)   \n",
       "159             device_category  CLIF-2.1.0 (Live)   \n",
       "\n",
       "                                                 mCIDE  \\\n",
       "157                                                IMV   \n",
       "158                                         calculated   \n",
       "159  NIPPV, CPAP, High Flow NC, Face Mask, Trach Co...   \n",
       "\n",
       "                                            Definition  \\\n",
       "157  Whether a patient underwent an intervention in...   \n",
       "158  Total number of days that a patient underwent ...   \n",
       "159  Whether a patient underwent an intervention in...   \n",
       "\n",
       "                                                Coding  ... SOFA PSOFA  nSOFA  \\\n",
       "157                                   Yes; No; Unknown  ...  1.0   1.0    1.0   \n",
       "158                             [Integer]\\nUnits: days  ...  NaN   NaN    NaN   \n",
       "159  [Check all that apply] \\nOxygen therapy, C-PAP...  ...  NaN   NaN    NaN   \n",
       "\n",
       "    PRISM III  PIM3  Charlson CI  MRC-ICU  SOI count  No SOI score  \\\n",
       "157       NaN   1.0          NaN      NaN          4           NaN   \n",
       "158       NaN   NaN          NaN      NaN          0           1.0   \n",
       "159       NaN   NaN          NaN      1.0          1           NaN   \n",
       "\n",
       "                        Potential EHR Datasource  \n",
       "157  Problem list, ICD10 code, flowsheet, orders  \n",
       "158  Problem list, ICD10 code, flowsheet, orders  \n",
       "159          Problem list, ICD10 code, flowsheet  \n",
       "\n",
       "[3 rows x 24 columns]"
      ]
     },
     "execution_count": 3,
     "metadata": {},
     "output_type": "execute_result"
    }
   ],
   "source": [
    "mapper = clif_c2d2_mapping[(clif_c2d2_mapping['Domain']=='Interventions') & (clif_c2d2_mapping['Sub-domain']=='Respiratory Support')]\n",
    "mapper.head()"
   ]
  },
  {
   "cell_type": "code",
   "execution_count": 4,
   "id": "0cf7d3ae",
   "metadata": {
    "execution": {
     "iopub.execute_input": "2025-06-04T15:39:50.262165Z",
     "iopub.status.busy": "2025-06-04T15:39:50.262165Z",
     "iopub.status.idle": "2025-06-04T15:39:58.602947Z",
     "shell.execute_reply": "2025-06-04T15:39:58.602947Z"
    },
    "papermill": {
     "duration": 8.355046,
     "end_time": "2025-06-04T15:39:58.606531",
     "exception": false,
     "start_time": "2025-06-04T15:39:50.251485",
     "status": "completed"
    },
    "tags": []
   },
   "outputs": [
    {
     "data": {
      "application/vnd.jupyter.widget-view+json": {
       "model_id": "ce1f54aa775d424cb87095020e1d9565",
       "version_major": 2,
       "version_minor": 0
      },
      "text/plain": [
       "FloatProgress(value=0.0, layout=Layout(width='auto'), style=ProgressStyle(bar_color='black'))"
      ]
     },
     "metadata": {},
     "output_type": "display_data"
    },
    {
     "name": "stdout",
     "output_type": "stream",
     "text": [
      "Data loaded successfully from C:/Users/vchaudha/Downloads/rush_parquet_2\\clif_respiratory_support.parquet\n"
     ]
    },
    {
     "name": "stdout",
     "output_type": "stream",
     "text": [
      "WARNING: recorded_dttm: Naive datetime, NOT converting. Assuming it's in your LOCAL ZONE. Please check ETL!\n"
     ]
    }
   ],
   "source": [
    "clif_respiratory_support= ['hospitalization_id','recorded_dttm','device_category']\n",
    "\n",
    "rst_cohort = pyCLIF.load_data('clif_respiratory_support',\n",
    "    columns=clif_respiratory_support,\n",
    "    filters={'hospitalization_id': cohort['hospitalization_id'].unique().tolist()}\n",
    ")\n",
    "rst_cohort = pyCLIF.convert_datetime_columns_to_site_tz(rst_cohort, pyCLIF.helper['timezone'])"
   ]
  },
  {
   "cell_type": "code",
   "execution_count": 5,
   "id": "f3b58267",
   "metadata": {
    "execution": {
     "iopub.execute_input": "2025-06-04T15:39:58.639455Z",
     "iopub.status.busy": "2025-06-04T15:39:58.639455Z",
     "iopub.status.idle": "2025-06-04T15:40:01.603335Z",
     "shell.execute_reply": "2025-06-04T15:40:01.603335Z"
    },
    "papermill": {
     "duration": 2.978855,
     "end_time": "2025-06-04T15:40:01.605904",
     "exception": false,
     "start_time": "2025-06-04T15:39:58.627049",
     "status": "completed"
    },
    "tags": []
   },
   "outputs": [],
   "source": [
    "# Select relevant columns and drop duplicates\n",
    "cohort_trimmed = cohort[['hospitalization_id', '24hr_icu_in_dttm', '24hr_icu_out_dttm']].drop_duplicates()\n",
    "\n",
    "# Perform inner join on 'hospitalization_id'\n",
    "rst_joined_df = pd.merge(cohort_trimmed, rst_cohort, on='hospitalization_id', how='inner')"
   ]
  },
  {
   "cell_type": "code",
   "execution_count": 6,
   "id": "f37f234f",
   "metadata": {
    "execution": {
     "iopub.execute_input": "2025-06-04T15:40:01.642879Z",
     "iopub.status.busy": "2025-06-04T15:40:01.642879Z",
     "iopub.status.idle": "2025-06-04T15:40:02.920701Z",
     "shell.execute_reply": "2025-06-04T15:40:02.919160Z"
    },
    "papermill": {
     "duration": 1.298388,
     "end_time": "2025-06-04T15:40:02.920701",
     "exception": false,
     "start_time": "2025-06-04T15:40:01.622313",
     "status": "completed"
    },
    "tags": []
   },
   "outputs": [],
   "source": [
    "# Filter rows where recorded_dttm is within the ICU 24hr window\n",
    "# c2d2 : 'icu_any_imv'\n",
    "rst_filtered_df = rst_joined_df[\n",
    " (rst_joined_df['recorded_dttm'] >= rst_joined_df['24hr_icu_in_dttm']) &\n",
    "    (rst_joined_df['recorded_dttm'] <= rst_joined_df['24hr_icu_out_dttm']) &\n",
    "    (rst_joined_df['device_category'].str.lower() == 'imv')\n",
    "][['hospitalization_id']].drop_duplicates()\n",
    "\n",
    "rst_filtered_df['icu_any_imv'] = 'yes'"
   ]
  },
  {
   "cell_type": "code",
   "execution_count": 7,
   "id": "a16317eb",
   "metadata": {
    "execution": {
     "iopub.execute_input": "2025-06-04T15:40:02.951764Z",
     "iopub.status.busy": "2025-06-04T15:40:02.951764Z",
     "iopub.status.idle": "2025-06-04T15:40:02.996802Z",
     "shell.execute_reply": "2025-06-04T15:40:02.996802Z"
    },
    "papermill": {
     "duration": 0.059908,
     "end_time": "2025-06-04T15:40:03.000898",
     "exception": false,
     "start_time": "2025-06-04T15:40:02.940990",
     "status": "completed"
    },
    "tags": []
   },
   "outputs": [],
   "source": [
    "rst_filtered_df.to_parquet('../output/final/c2d2_interventions_rst.parquet',index=False)"
   ]
  },
  {
   "cell_type": "markdown",
   "id": "f4438adb",
   "metadata": {
    "papermill": {
     "duration": 0.020657,
     "end_time": "2025-06-04T15:40:03.033893",
     "exception": false,
     "start_time": "2025-06-04T15:40:03.013236",
     "status": "completed"
    },
    "tags": []
   },
   "source": [
    "## 🗺️ CLIF CRRT to C2D2 Mapping"
   ]
  },
  {
   "cell_type": "code",
   "execution_count": 8,
   "id": "07368a77",
   "metadata": {
    "execution": {
     "iopub.execute_input": "2025-06-04T15:40:03.054429Z",
     "iopub.status.busy": "2025-06-04T15:40:03.054429Z",
     "iopub.status.idle": "2025-06-04T15:40:03.978485Z",
     "shell.execute_reply": "2025-06-04T15:40:03.978485Z"
    },
    "papermill": {
     "duration": 0.937124,
     "end_time": "2025-06-04T15:40:03.981209",
     "exception": false,
     "start_time": "2025-06-04T15:40:03.044085",
     "status": "completed"
    },
    "tags": []
   },
   "outputs": [
    {
     "name": "stdout",
     "output_type": "stream",
     "text": [
      "Data loaded successfully from C:/Users/vchaudha/Downloads/rush_parquet_2\\clif_crrt_therapy.parquet\n",
      "WARNING: recorded_dttm: Naive datetime, NOT converting. Assuming it's in your LOCAL ZONE. Please check ETL!\n"
     ]
    }
   ],
   "source": [
    "crrt_cohort = pyCLIF.load_data('clif_crrt_therapy',\n",
    "    filters={'hospitalization_id': cohort['hospitalization_id'].unique().tolist()}\n",
    ")\n",
    "crrt_cohort = pyCLIF.convert_datetime_columns_to_site_tz(crrt_cohort, pyCLIF.helper['timezone'])"
   ]
  },
  {
   "cell_type": "code",
   "execution_count": 9,
   "id": "5512ce88",
   "metadata": {
    "execution": {
     "iopub.execute_input": "2025-06-04T15:40:04.012243Z",
     "iopub.status.busy": "2025-06-04T15:40:04.012243Z",
     "iopub.status.idle": "2025-06-04T15:40:04.071348Z",
     "shell.execute_reply": "2025-06-04T15:40:04.071348Z"
    },
    "papermill": {
     "duration": 0.076266,
     "end_time": "2025-06-04T15:40:04.075097",
     "exception": false,
     "start_time": "2025-06-04T15:40:03.998831",
     "status": "completed"
    },
    "tags": []
   },
   "outputs": [],
   "source": [
    "crrt_cohort = crrt_cohort[['hospitalization_id']].drop_duplicates()\n",
    "crrt_cohort['icu_any_crrt'] = 'yes'"
   ]
  },
  {
   "cell_type": "code",
   "execution_count": 10,
   "id": "d5d51c5b",
   "metadata": {
    "execution": {
     "iopub.execute_input": "2025-06-04T15:40:04.110789Z",
     "iopub.status.busy": "2025-06-04T15:40:04.110789Z",
     "iopub.status.idle": "2025-06-04T15:40:04.131290Z",
     "shell.execute_reply": "2025-06-04T15:40:04.129656Z"
    },
    "papermill": {
     "duration": 0.041225,
     "end_time": "2025-06-04T15:40:04.133352",
     "exception": false,
     "start_time": "2025-06-04T15:40:04.092127",
     "status": "completed"
    },
    "tags": []
   },
   "outputs": [],
   "source": [
    "crrt_cohort.to_parquet('../output/final/c2d2_interventions_crrt.parquet',index=False)"
   ]
  }
 ],
 "metadata": {
  "kernelspec": {
   "display_name": ".clif_c2d2",
   "language": "python",
   "name": "python3"
  },
  "language_info": {
   "codemirror_mode": {
    "name": "ipython",
    "version": 3
   },
   "file_extension": ".py",
   "mimetype": "text/x-python",
   "name": "python",
   "nbconvert_exporter": "python",
   "pygments_lexer": "ipython3",
   "version": "3.11.5"
  },
  "papermill": {
   "default_parameters": {},
   "duration": 22.0411,
   "end_time": "2025-06-04T15:40:06.941449",
   "environment_variables": {},
   "exception": null,
   "input_path": "07_interventions.ipynb",
   "output_path": "07_interventions.ipynb",
   "parameters": {},
   "start_time": "2025-06-04T15:39:44.900349",
   "version": "2.6.0"
  },
  "widgets": {
   "application/vnd.jupyter.widget-state+json": {
    "state": {
     "0291ab8e40974c4e9c2d878ef4e65819": {
      "model_module": "@jupyter-widgets/base",
      "model_module_version": "2.0.0",
      "model_name": "LayoutModel",
      "state": {
       "_model_module": "@jupyter-widgets/base",
       "_model_module_version": "2.0.0",
       "_model_name": "LayoutModel",
       "_view_count": null,
       "_view_module": "@jupyter-widgets/base",
       "_view_module_version": "2.0.0",
       "_view_name": "LayoutView",
       "align_content": null,
       "align_items": null,
       "align_self": null,
       "border_bottom": null,
       "border_left": null,
       "border_right": null,
       "border_top": null,
       "bottom": null,
       "display": null,
       "flex": null,
       "flex_flow": null,
       "grid_area": null,
       "grid_auto_columns": null,
       "grid_auto_flow": null,
       "grid_auto_rows": null,
       "grid_column": null,
       "grid_gap": null,
       "grid_row": null,
       "grid_template_areas": null,
       "grid_template_columns": null,
       "grid_template_rows": null,
       "height": null,
       "justify_content": null,
       "justify_items": null,
       "left": null,
       "margin": null,
       "max_height": null,
       "max_width": null,
       "min_height": null,
       "min_width": null,
       "object_fit": null,
       "object_position": null,
       "order": null,
       "overflow": null,
       "padding": null,
       "right": null,
       "top": null,
       "visibility": null,
       "width": "auto"
      }
     },
     "7767ec343137432aa6c0cc1ed76aab61": {
      "model_module": "@jupyter-widgets/controls",
      "model_module_version": "2.0.0",
      "model_name": "ProgressStyleModel",
      "state": {
       "_model_module": "@jupyter-widgets/controls",
       "_model_module_version": "2.0.0",
       "_model_name": "ProgressStyleModel",
       "_view_count": null,
       "_view_module": "@jupyter-widgets/base",
       "_view_module_version": "2.0.0",
       "_view_name": "StyleView",
       "bar_color": "black",
       "description_width": ""
      }
     },
     "ce1f54aa775d424cb87095020e1d9565": {
      "model_module": "@jupyter-widgets/controls",
      "model_module_version": "2.0.0",
      "model_name": "FloatProgressModel",
      "state": {
       "_dom_classes": [],
       "_model_module": "@jupyter-widgets/controls",
       "_model_module_version": "2.0.0",
       "_model_name": "FloatProgressModel",
       "_view_count": null,
       "_view_module": "@jupyter-widgets/controls",
       "_view_module_version": "2.0.0",
       "_view_name": "ProgressView",
       "bar_style": "",
       "description": "",
       "description_allow_html": false,
       "layout": "IPY_MODEL_0291ab8e40974c4e9c2d878ef4e65819",
       "max": 100.0,
       "min": 0.0,
       "orientation": "horizontal",
       "style": "IPY_MODEL_7767ec343137432aa6c0cc1ed76aab61",
       "tabbable": null,
       "tooltip": null,
       "value": 100.0
      }
     }
    },
    "version_major": 2,
    "version_minor": 0
   }
  }
 },
 "nbformat": 4,
 "nbformat_minor": 5
}